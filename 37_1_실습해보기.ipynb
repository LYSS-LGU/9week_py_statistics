{
 "cells": [
  {
   "cell_type": "markdown",
   "metadata": {},
   "source": [
    "# 25.07.21 오후 수업   premium.csv 데이터를 활용한 선형 회귀"
   ]
  },
  {
   "cell_type": "code",
   "execution_count": 1,
   "id": "14d73a9c",
   "metadata": {},
   "outputs": [
    {
     "name": "stdout",
     "output_type": "stream",
     "text": [
      "--- 교차 검증 미적용 모델 ---\n",
      "테스트 세트에서의 평균 제곱 오차 (MSE): 33627022.07\n",
      "테스트 세트에서의 결정 계수 (R²): 0.7834\n",
      "------------------------------\n",
      "\n",
      "--- 교차 검증 적용 모델 ---\n",
      "교차 검증 각 폴드의 MSE 점수: \n",
      "[37333420.30374555 38252383.45633688 32962417.93798563 39689926.68963022\n",
      " 37118909.96424668]\n",
      "교차 검증 평균 MSE: 37071411.67 (표준편차: 2245263.88)\n",
      "\n",
      "---------------\n",
      "\n",
      "교차 검증 각 폴드의 R² 점수: \n",
      "[0.75975542 0.70548863 0.77540897 0.73263652 0.75561818]\n",
      "교차 검증 평균 R²: 0.7458 (표준편차: 0.0244)\n"
     ]
    },
    {
     "name": "stderr",
     "output_type": "stream",
     "text": [
      "C:\\Users\\Admin\\AppData\\Local\\Temp\\ipykernel_130556\\307068176.py:19: FutureWarning: A value is trying to be set on a copy of a DataFrame or Series through chained assignment using an inplace method.\n",
      "The behavior will change in pandas 3.0. This inplace method will never work because the intermediate object on which we are setting values always behaves as a copy.\n",
      "\n",
      "For example, when doing 'df[col].method(value, inplace=True)', try using 'df.method({col: value}, inplace=True)' or df[col] = df[col].method(value) instead, to perform the operation inplace on the original object.\n",
      "\n",
      "\n",
      "  df['bmi'].fillna(df['bmi'].mean(), inplace=True)\n"
     ]
    }
   ],
   "source": [
    "import pandas as pd\n",
    "import numpy as np\n",
    "from sklearn.model_selection import train_test_split, cross_val_score\n",
    "from sklearn.linear_model import LinearRegression\n",
    "from sklearn.metrics import mean_squared_error, r2_score\n",
    "from sklearn.preprocessing import OneHotEncoder\n",
    "from sklearn.compose import ColumnTransformer\n",
    "from sklearn.pipeline import Pipeline\n",
    "\n",
    "# 1. 데이터 로드 및 준비\n",
    "# CSV 파일을 pandas DataFrame으로 읽어옵니다.\n",
    "try:\n",
    "    df = pd.read_csv('C:/githome/9-11week_py_statistics/data1/premium.csv')\n",
    "except UnicodeDecodeError:\n",
    "    # 인코딩 에러 발생 시 다른 인코딩으로 시도\n",
    "    df = pd.read_csv('C:/githome/9-11week_py_statistics/data1/premium.csv', encoding='cp949')\n",
    "\n",
    "# 결측치 처리 (bmi 컬럼의 누락된 값을 평균으로 채움)\n",
    "df['bmi'].fillna(df['bmi'].mean(), inplace=True)\n",
    "\n",
    "# 특성(X)과 타겟(y) 분리\n",
    "X = df.drop('charges', axis=1)\n",
    "y = df['charges']\n",
    "\n",
    "# 범주형 데이터와 수치형 데이터 컬럼 정의\n",
    "categorical_features = ['sex', 'smoker', 'region']\n",
    "numerical_features = ['age', 'bmi', 'children']\n",
    "\n",
    "# 전처리 파이프라인 설정\n",
    "# - OneHotEncoder: 범주형 데이터를 수치형으로 변환\n",
    "# - passthrough: 수치형 데이터는 그대로 사용\n",
    "preprocessor = ColumnTransformer(\n",
    "    transformers=[\n",
    "        ('num', 'passthrough', numerical_features),\n",
    "        ('cat', OneHotEncoder(), categorical_features)\n",
    "    ])\n",
    "\n",
    "# 2. 교차 검증을 사용하지 않은 모델\n",
    "print(\"--- 교차 검증 미적용 모델 ---\")\n",
    "# 데이터를 훈련 세트와 테스트 세트로 8:2 분할\n",
    "X_train, X_test, y_train, y_test = train_test_split(X, y, test_size=0.2, random_state=42)\n",
    "\n",
    "# 전처리 및 모델 학습을 위한 파이프라인 생성\n",
    "pipeline_simple = Pipeline(steps=[('preprocessor', preprocessor),\n",
    "                                  ('regressor', LinearRegression())])\n",
    "\n",
    "# 모델 학습\n",
    "pipeline_simple.fit(X_train, y_train)\n",
    "\n",
    "# 예측 및 평가\n",
    "y_pred = pipeline_simple.predict(X_test)\n",
    "mse_simple = mean_squared_error(y_test, y_pred)\n",
    "r2_simple = r2_score(y_test, y_pred)\n",
    "\n",
    "print(f\"테스트 세트에서의 평균 제곱 오차 (MSE): {mse_simple:.2f}\")\n",
    "print(f\"테스트 세트에서의 결정 계수 (R²): {r2_simple:.4f}\")\n",
    "print(\"-\" * 30)\n",
    "\n",
    "# 3. 교차 검증을 사용한 모델\n",
    "print(\"\\n--- 교차 검증 적용 모델 ---\")\n",
    "# 전처리 및 모델을 포함하는 전체 파이프라인\n",
    "pipeline_cv = Pipeline(steps=[('preprocessor', preprocessor),\n",
    "                              ('regressor', LinearRegression())])\n",
    "\n",
    "# 5-겹 교차 검증 수행\n",
    "# MSE (음수로 반환되므로 -1 곱함)\n",
    "cv_mse_scores = -cross_val_score(pipeline_cv, X, y, cv=5, scoring='neg_mean_squared_error')\n",
    "# R²\n",
    "cv_r2_scores = cross_val_score(pipeline_cv, X, y, cv=5, scoring='r2')\n",
    "\n",
    "print(f\"교차 검증 각 폴드의 MSE 점수: \\n{cv_mse_scores}\")\n",
    "print(f\"교차 검증 평균 MSE: {cv_mse_scores.mean():.2f} (표준편차: {cv_mse_scores.std():.2f})\")\n",
    "print(\"\\n\" + \"-\"*15 + \"\\n\")\n",
    "print(f\"교차 검증 각 폴드의 R² 점수: \\n{cv_r2_scores}\")\n",
    "print(f\"교차 검증 평균 R²: {cv_r2_scores.mean():.4f} (표준편차: {cv_r2_scores.std():.4f})\")"
   ]
  }
 ],
 "metadata": {
  "kernelspec": {
   "display_name": "hipython",
   "language": "python",
   "name": "python3"
  },
  "language_info": {
   "codemirror_mode": {
    "name": "ipython",
    "version": 3
   },
   "file_extension": ".py",
   "mimetype": "text/x-python",
   "name": "python",
   "nbconvert_exporter": "python",
   "pygments_lexer": "ipython3",
   "version": "3.12.9"
  }
 },
 "nbformat": 4,
 "nbformat_minor": 5
}
