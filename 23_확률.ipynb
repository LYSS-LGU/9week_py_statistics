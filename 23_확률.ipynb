{
 "cells": [
  {
   "cell_type": "markdown",
   "id": "3fef9886",
   "metadata": {},
   "source": [
    "# 확률\n",
    "25.07.14(월) 10주 43일차 (오전수업)"
   ]
  },
  {
   "cell_type": "code",
   "execution_count": 15,
   "id": "9fdae7da",
   "metadata": {},
   "outputs": [],
   "source": [
    "import numpy as np\n",
    "import scipy\n",
    "from scipy import linalg as la\n",
    "import scipy.stats as stats\n",
    "import pandas as pd\n",
    "import matplotlib.pyplot as plt\n",
    "%matplotlib inline\n",
    "import seaborn as sns"
   ]
  },
  {
   "cell_type": "markdown",
   "id": "6b7c6526",
   "metadata": {},
   "source": [
    "# 확률의 개념\n",
    "\n",
    "확률은 불확실성과 가능성을 수치화하는 방법\n",
    "\n",
    "기본적으로 확률은 0에서 1 사이의 값으로 표현되며, 0은 불가능한 사건, 1은 확실한 사건을 의미\n",
    "\n",
    "확률을 통해 미래의 불확실한 사건에 대한 예측과 의사 결정을 한다."
   ]
  },
  {
   "cell_type": "markdown",
   "id": "214c2629",
   "metadata": {},
   "source": [
    "## 확률\n",
    "\n",
    "- 랜덤 시행에서 특정 사건이 발생할 가능성을 나타내는 수치\n",
    "- 주어진 확률 분포 내에서 관측값이나 관측 구간이 나타날 수 있는 정도를 수량화한 값"
   ]
  },
  {
   "cell_type": "markdown",
   "id": "5d03f217",
   "metadata": {},
   "source": [
    "![확률1](images\\확률1.png)\n",
    "\n",
    "예) 주사위를 1개 던지는 시행에서 짝수인 눈이 나올 확률\n",
    "\n",
    "주사위 1개에서 나올 수 있는 모든 경우의 수는 6가지, 이 중 짝수인 눈은 2, 4, 6으로 3가지\n",
    "\n",
    "따라서 짝수인 눈이 나올 확률  $P(짝수) = 3/6 = 1/2 = 0.5$ \n",
    "\n",
    "예) 4보다 큰 눈이 나올 확률\n",
    "\n",
    "주사위 1개에서 4보다 큰 눈은 5, 6으로 2가지\n",
    "\n",
    "따라서 4보다 큰 눈이 나올 확률   $P(4보다 큰 눈) = 2/6 = 1/3 ≈ 0.33$"
   ]
  },
  {
   "cell_type": "markdown",
   "id": "4c319d63",
   "metadata": {},
   "source": [
    "## 사건 (Event)\n",
    "\n",
    "- 실험 또는 관찰에서 **관심 있는 결과**를 말한다.\n",
    "- 일반적으로 \"무엇이 일어날 것인가?\"에 대한 조건을 의미한다.\n",
    "- 예시\n",
    "    - 주사위를 던졌을 때 **1이 나오는 것**\n",
    "    - 동전을 던졌을 때 **앞면이 나오는 것**\n",
    "    - 학생이 시험에서 **90점 이상을 받는 것**"
   ]
  },
  {
   "cell_type": "markdown",
   "id": "8b7cd4ff",
   "metadata": {},
   "source": [
    "## 상대도수 (Relative Frequency)\n",
    "\n",
    "- 어떤 사건이 **전체 시행 중에서 실제로 일어난 비율**\n",
    "- 상대도수 = 사건이 일어난 횟수 ÷ 전체 시행 횟수\n",
    "- 과거형으로 표현된다. (나왔다면~)\n",
    "- 예시\n",
    "    - 주사위를 10번 던졌을 때, '1'이 3번 나왔다면\n",
    "    상대도수 = 3 ÷ 10 = 0.3"
   ]
  },
  {
   "cell_type": "markdown",
   "id": "45e309dc",
   "metadata": {},
   "source": [
    "## 확률의 성질\n",
    "\n",
    "1. 임의의 사건 A에 대하여, $0 ≤ P(A) ≤ 1$\n",
    "    - P(A)는 사건 A의 확률\n",
    "2. $P(S) = 1, P(ϕ) = 0$\n",
    "    - S는 표본공간 : 모든 가능한 결과의 집합\n",
    "    - ϕ는 공집합 : 아무 것도 일어나지 않는 사건\n",
    "    \n",
    "    <aside>\n",
    "    💡\n",
    "    \n",
    "    확률은 항상 0과 1 사이의 값을 가지며, \n",
    "    \n",
    "    전체 표본공간의 확률은 1이고 아무 일도 일어나지 않는 사건의 확률은 0이다.\n",
    "    \n",
    "    </aside>\n",
    "    \n",
    "\n",
    "1. 표본공간이 𝑆일 때, 두 사건 𝐴, 𝐵에 대해 사건 𝐴 또는 𝐵가 일어날 확률\n",
    "    \n",
    "     $𝑃(𝐴∪𝐵)$\n",
    "    \n",
    "    두 사건 A와 B가 배반사건(서로 교집합이 없는 사건)일 때, \n",
    "    \n",
    "    $P(A∪B) = P(A) + P(B)$이며\n",
    "    \n",
    "    배반사건이 아닐 경우에는 중복 계산을 피하기 위해 \n",
    "    \n",
    "    $P(A∪B) = P(A) + P(B) - P(A∩B)$\n",
    "    \n",
    "\n",
    "1. 사건 𝐴 와 𝐵가 동시에 일어날 확률  $P(A∩B)$  (교집합)\n",
    "    \n",
    "    \n",
    "    독립 사건의 경우 **두 사건 A와 B가 동시에 일어날 확률**을 의미한다. \n",
    "    \n",
    "    즉, **A도 일어나고 B도 일어날 확률**이다.\n",
    "    \n",
    "    $P(A∩B)=P(A)⋅P(B)$\n",
    "    \n",
    "    <aside>\n",
    "    💡\n",
    "    \n",
    "    독립 사건 : 동전을 두 번 던지는 시행에서 \n",
    "    \n",
    "    - 첫 번째에 동전의 앞면이 나오는 사건을 A, 두 번째에 동전의 앞면이 나오는 사건을 B라 하면\n",
    "    - 두 사건은 서로에게 영향을 주지 않는다. → 사건 A와 B는 서로 **독립**\n",
    "    </aside>\n",
    "    \n",
    "    - 독립사건의 확률의 곱(교집합) 계산하기\n",
    "        - A: 주사위를 던져 **짝수**가 나오는 사건\n",
    "            \n",
    "            $P(A) = \\frac{3}{6} = 0.5$\n",
    "            \n",
    "        - B: 동전을 던져 **앞면**이 나오는 사건\n",
    "            \n",
    "            $P(B) = \\frac{1}{2} = 0.5$\n",
    "            \n",
    "        - 독립 사건이므로:\n",
    "            \n",
    "            $P(A \\cap B) = 0.5 \\cdot 0.5 = 0.25$\n",
    "            \n",
    "    \n",
    "    종속 사건의 경우, 조건부 확률을 이용하여 \n",
    "    \n",
    "    $P(A∩B) = P(A) × P(B|A) = P(B) × P(A|B)$로 계산\n",
    "    \n",
    "    <aside>\n",
    "    💡\n",
    "    \n",
    "    두 사건이 서로 독립이 아닐 때, 두 사건은 서로 **종속**이라고 한다.\n",
    "    \n",
    "    </aside>\n",
    "    \n",
    "\n",
    "1. 조건부확률 : 특정 사건이 이미 일어났다는 가정 하에 다른 사건이 일어날 확률 \n",
    "    \n",
    "    $P(A∩B)=P(A)⋅P(B∣A)$\n",
    "    \n",
    "    ![확률_조건부확률](images\\확률_조건부확률.png)\n",
    "    \n",
    "    \n",
    "    예시)     \n",
    "    - 전체 학생 중 **70%가 수학을 합격**했다    P(A)=0.7\n",
    "    - 수학을 합격한 학생 중 **80%가 과학도 합격**했다  조건부확률 P(B∣A) = 0.8\n",
    "    - 두 시험 모두 합격할 확률은?\n",
    "        \n",
    "        $P(A∩B)=P(A)⋅P(B∣A)=0.7⋅0.8=0.56$\n",
    "    \n",
    "1. 여사건의 확률 : 어떤 사건 A가 일어나지 않을 확률을 의미하며, $P(A')$로 표기 \n",
    "    \n",
    "    확률의 기본 성질에 따라 $P(A) + P(A') = 1$ 이므로, \n",
    "    \n",
    "    $P(A') = 1 - P(A)$"
   ]
  },
  {
   "cell_type": "markdown",
   "id": "447a66ab",
   "metadata": {},
   "source": [
    "## 베이즈 정리 Bayes’ Theorem\n",
    "\n",
    "이미 알고 있는 정보(사전 확률)를 바탕으로, **새로운 정보가 주어졌을 때** 어떤 일이 일어났을 확률(사후 확률)을 갱신하는 법칙"
   ]
  },
  {
   "cell_type": "markdown",
   "id": "2306c311",
   "metadata": {},
   "source": [
    "![확률_베이즈정리](images\\확률_베이즈정리.png)\n"
   ]
  },
  {
   "cell_type": "markdown",
   "id": "bcefb58c",
   "metadata": {},
   "source": [
    "### 문제) 양성 진단 -> 실제 암일 확률은?\n",
    "진단의 정확도 95%, 암환자의 비율 10%\n",
    "\n",
    "- 5% 오진 P(양성|암) = 0.05 = P(B|A)\n",
    "- 95% 확진 P(양성|암) = 0.95 = P(B|A`)\n",
    "\n"
   ]
  },
  {
   "cell_type": "code",
   "execution_count": 16,
   "id": "b55c33b3",
   "metadata": {},
   "outputs": [],
   "source": [
    "P_A = 0.1 #암의확률\n",
    "P_not_A = 1 - P_A #암이 아닐 확률\n",
    "P_B_given_A = 0.95 # 양성판정의 정확도\n",
    "P_B_given_not_A = 0.05 #암이 아닌데, 양성 판정이 나온 확률\n",
    "\n"
   ]
  },
  {
   "cell_type": "markdown",
   "id": "b91a5cb0",
   "metadata": {},
   "source": [
    "## 우도(가능도, Likelihood)\n",
    "\n",
    "어떤 특정한 값을 관측할 때, 이 관측치가 어떠한 확률분포에서 나왔는가에 관한 값\n",
    "\n",
    "우도 (Likelihood) 는  결과(관측값)는 고정되어 있고, \n",
    "\n",
    "이 결과를 만들어낸 **확률분포(모형)**가 얼마나 적절한지를 측정하는 값이다.\n",
    "\n",
    "- **동전을 10번 던졌더니 앞면이 8번 나왔다.**\n",
    "    \n",
    "    → 이 결과가 **\"어떤 동전 모델(확률분포)\"**에서 나왔을 가능성이 높은가?\n",
    "    \n",
    "    - 공정한 동전이라면,  (앞면 확률 0.5)?\n",
    "    - 치우친 동전이라면,  (앞면 확률 0.8)?\n",
    "    - 우도는, \"**결과는 정해져 있고, 그 결과에 가장 잘 맞는 분포를 찾는 것**\"\n",
    "\n",
    "<aside>\n",
    "💡\n",
    "\n",
    "머신러닝에서는 **우도(Likelihood)를 최대화** 해서 가장 잘 맞는 모델을 찾는 방식(Maximum Likelihood Estimation, MLE)을 자주 사용한다\n",
    "\n",
    "</aside>"
   ]
  },
  {
   "cell_type": "code",
   "execution_count": 25,
   "id": "dec861ea",
   "metadata": {},
   "outputs": [],
   "source": [
    "from scipy.stats import binom"
   ]
  },
  {
   "cell_type": "code",
   "execution_count": 26,
   "id": "c77da666",
   "metadata": {},
   "outputs": [
    {
     "data": {
      "text/plain": [
       "(np.float64(0.04394531250000005), np.float64(0.30198988799999993))"
      ]
     },
     "execution_count": 26,
     "metadata": {},
     "output_type": "execute_result"
    }
   ],
   "source": [
    "n= 10\n",
    "k = 8 #앞면의 횟수\n",
    "\n",
    "#가설1 - 공정한 동전일 것이다\n",
    "p1 = 0.5 #앞면이 나올 확률 - 공정할 경우\n",
    "p1_likelihood = binom.pmf(k, n, p1) #조건, 총사건, 확률\n",
    "#가설2\n",
    "p2 = 0.8\n",
    "p2_likelihood = binom.pmf(k, n, p2) #조건, 총사건, 확률\n",
    "\n",
    "p1_likelihood, p2_likelihood"
   ]
  },
  {
   "cell_type": "markdown",
   "id": "f0d97206",
   "metadata": {},
   "source": [
    "가설1의 경우, 앞면이 8번 나올 확률은 4.4%\n",
    "가설2의 경우, 앞면이 8번 나올 확률은 30.2%\n",
    "\n",
    "앞면 8번 나오는 관측값은 p=0.8인 모델이 더 잘 설명한다. (우도가 크다)"
   ]
  },
  {
   "cell_type": "markdown",
   "id": "627dff8d",
   "metadata": {},
   "source": [
    "# 확률 분포\n",
    "\n",
    "- 확률분포란 확률변수가 가질 수 있는 값과 그에 대응하는 확률을 나타내는 함수\n",
    "- **모든 가능한 결과**에 대해, **각 결과가 나올 확률**을 지정한 규칙이다.\n",
    "- 공정한 동전의 경우 확률 분포\n",
    "    \n",
    "    \n",
    "    | 결과 | 확률 |\n",
    "    | --- | --- |\n",
    "    | 앞면 (H) | 0.5 |\n",
    "    | 뒷면 (T) | 0.5 |\n",
    "- 우도는 이 분포가 **관측된 결과에 얼마나 잘 맞는지**를 측정\n",
    "    \n",
    "    ![확률_확률분포](images\\확률_확률분포.png)"
   ]
  },
  {
   "cell_type": "markdown",
   "id": "354b3e54",
   "metadata": {},
   "source": [
    "## 중심극한정리(Central Limit Theorem)\n",
    "\n",
    "- 다수의 독립적인 관측값과 연관된 값(합계 또는 평균값 등)은 대부분 정규 형태로 분포\n",
    "- 관측치나 표본의 수가 증가함에 따라 이 ‘정규성’은 점점 더 정규화\n",
    "\n",
    "\n",
    "- 중심극한정리는 모집단의 분포 형태와 상관없이 표본의 크기가 충분히 크면 \n",
    "\n",
    "![확률_중심극한정리1](images/확률_중심극한정리1.png)\n",
    "![확률_중심극한정리2](images/확률_중심극한정리2.png)\n",
    "![확률_중심극한정리3](images/확률_중심극한정리3.png)\n",
    "![확률_중심극한정리4](images/확률_중심극한정리4.png)\n",
    "\n",
    "- 표본 평균의 분포가 정규분포에 근사한다는 점\n",
    "\n",
    "- 통계적 추론의 기초가 되며, 신뢰구간 구성과 가설검정에 광범위하게 활용된다. \n",
    "\n",
    "- 실제로 n이 30 이상이면 대부분의 경우 정규분포 근사가 유효하게 적용\n",
    "\n",
    "![확률_중심극한정리5](images/확률_중심극한정리5.png)\n"
   ]
  },
  {
   "cell_type": "markdown",
   "id": "be9cc487",
   "metadata": {},
   "source": [
    "## 표집분포 (Sampling Distribution)\n",
    "\n",
    "- **하나의 표본**이 아니라, **모집단에서 가능한 모든 표본(크기 n)**을 여러 번 뽑아,\n",
    "    \n",
    "    각각의 **표본 통계량(예: 평균, 비율)** 을 계산한 분포\n",
    "    \n",
    "- 중심극한정리(CLT)에 의해 **n이 충분히 크면 정규분포에 가까워짐 → 많은 샘플을 뽑을수록**\n",
    "- 표집분포의 모양은 정규분포인 경향이 있다. (n > 30일 경우, 정규분포를 따른다)\n",
    "- 표준오차(Standard Error): 표집분포의 표준편차\n",
    "\n",
    "$SE=  \\frac{\\sigma}{\\sqrt{n}}$\n",
    "\n",
    "(σ는 모집단의 표준편차)\n"
   ]
  },
  {
   "cell_type": "code",
   "execution_count": 17,
   "id": "09a25476",
   "metadata": {},
   "outputs": [
    {
     "name": "stdout",
     "output_type": "stream",
     "text": [
      "0.5\n"
     ]
    }
   ],
   "source": [
    "space = ['앞면', '뒷면']\n",
    "event = ['앞면']\n",
    "\n",
    "# 올바르게 lambda 함수 정의\n",
    "prob = lambda event, space: len(event) / len(space)\n",
    "\n",
    "# 함수 호출\n",
    "print(prob(event, space))  # 결과: 0.5\n"
   ]
  },
  {
   "cell_type": "code",
   "execution_count": 18,
   "id": "5982d202",
   "metadata": {},
   "outputs": [
    {
     "data": {
      "text/plain": [
       "0.16666666666666666"
      ]
     },
     "execution_count": 18,
     "metadata": {},
     "output_type": "execute_result"
    }
   ],
   "source": [
    "# 주사위 던지기\n",
    "# 1번 던져 3이 나올 확률\n",
    "space = [1,2,3,4,5,6]\n",
    "event = [3]\n",
    "prob(event, space)"
   ]
  },
  {
   "cell_type": "code",
   "execution_count": 19,
   "id": "1b151e0a",
   "metadata": {},
   "outputs": [],
   "source": [
    "## 주사위에서 짝수이거나 4보다 큰 수가 나올 확률\n",
    "\n",
    "space = {1,2,3,4,5,6}\n",
    "event_A = {2,4,6}\n",
    "event_B = {5,6}"
   ]
  },
  {
   "cell_type": "code",
   "execution_count": 20,
   "id": "f224abaa",
   "metadata": {},
   "outputs": [
    {
     "data": {
      "text/plain": [
       "{2, 4, 5, 6}"
      ]
     },
     "execution_count": 20,
     "metadata": {},
     "output_type": "execute_result"
    }
   ],
   "source": [
    "합집합 = event_A | event_B\n",
    "합집합"
   ]
  },
  {
   "cell_type": "code",
   "execution_count": 21,
   "id": "3faaccd0",
   "metadata": {},
   "outputs": [
    {
     "data": {
      "text/plain": [
       "0.6666666666666666"
      ]
     },
     "execution_count": 21,
     "metadata": {},
     "output_type": "execute_result"
    }
   ],
   "source": [
    "합집합의갯수 = len(합집합)\n",
    "전체경우의수 = len(space)\n",
    "확률_1 = 합집합의갯수  / 전체경우의수\n",
    "확률_1 # 짝수 또는 4 보다 큰 눈이 나올 확률"
   ]
  },
  {
   "cell_type": "code",
   "execution_count": 22,
   "id": "de4fd443",
   "metadata": {},
   "outputs": [
    {
     "name": "stdout",
     "output_type": "stream",
     "text": [
      "확률 = 0.67\n"
     ]
    }
   ],
   "source": [
    "# 2이하이거나 5이상인 눈이 나올 확률\n",
    "space = {1, 2, 3, 4, 5, 6}\n",
    "event_C = {1, 2}       # 2 이하\n",
    "event_D = {5, 6}       # 5 이상\n",
    "\n",
    "event_union_CD = event_C | event_D  # {1, 2, 5, 6}\n",
    "\n",
    "prob2 = len(event_union_CD) / len(space)\n",
    "print(f\"확률 = {prob2:.2f}\")  # 출력: 확률 = 0.67\n"
   ]
  },
  {
   "cell_type": "code",
   "execution_count": 23,
   "id": "cabae33b",
   "metadata": {},
   "outputs": [],
   "source": [
    "# 교집합이 나올 확률"
   ]
  },
  {
   "cell_type": "code",
   "execution_count": 24,
   "id": "1dbb6e9e",
   "metadata": {},
   "outputs": [],
   "source": [
    "# 조건부확률 : "
   ]
  },
  {
   "cell_type": "markdown",
   "id": "ae690727",
   "metadata": {},
   "source": [
    "# 기대값\n",
    "x의 확률들의 평균\n",
    "\n",
    "특정 사건이 시행되었을 때 X가 취할 수 있는 확률들의 평균\n",
    "\n",
    "![확률_기대값](images\\확률_기대값.png)\n",
    "\n",
    "- 확률변수 X의 기대값은?\n",
    "    \n",
    "    \n",
    "    | **x** | **1** | **2** | **3** |\n",
    "    | --- | --- | --- | --- |\n",
    "    | f(x) | 1/6 | 3/6 | 2/6 |\n",
    "    \n",
    "    E(X) = 1·(1/6) + 2·(3/6) + 3·(2/6) = 1/6 + 1 + 1 = 2.16666... = 13/6"
   ]
  },
  {
   "cell_type": "code",
   "execution_count": 27,
   "id": "508460d6",
   "metadata": {},
   "outputs": [
    {
     "name": "stdout",
     "output_type": "stream",
     "text": [
      "기대값 : 2.16667\n"
     ]
    }
   ],
   "source": [
    "x_values = [1,2,3]\n",
    "p_x = [1/6, 3/6, 2/6]\n",
    "\n",
    "exp_value = 0\n",
    "#기대값\n",
    "for i in range( len(x_values)):\n",
    "  exp_value += x_values[i] * p_x[i]\n",
    "\n",
    "print(f'기대값 : {exp_value:.5f}')"
   ]
  },
  {
   "cell_type": "code",
   "execution_count": 28,
   "id": "0dbdede1",
   "metadata": {},
   "outputs": [],
   "source": [
    "from scipy.stats import norm"
   ]
  },
  {
   "cell_type": "code",
   "execution_count": 29,
   "id": "c8eb11e3",
   "metadata": {},
   "outputs": [
    {
     "data": {
      "image/png": "[encoded data removed]",
      "text/plain": [
       "<Figure size 640x480 with 1 Axes>"
      ]
     },
     "metadata": {},
     "output_type": "display_data"
    }
   ],
   "source": [
    "mu = 0\n",
    "sigma = 1\n",
    "\n",
    "x = np.linspace(-4, 4, 1000)\n",
    "y = norm.pdf(x, loc=mu, scale=sigma)\n",
    "plt.plot(x,y)\n",
    "plt.show()"
   ]
  },
  {
   "cell_type": "markdown",
   "id": "35eba1f0",
   "metadata": {},
   "source": [
    "## 정규분포 (Normal Distribution)\n",
    "\n",
    "- 연속 확률분포의 한 종류\n",
    "- 평균을 중심으로 좌우 대칭인 **종 모양 곡선**\n",
    "- 자연현상, 오차, 측정값 등에서 자주 나타나는 분포\n",
    "\n",
    "![확률_정규분포](images\\확률_정규분포.png)\n",
    "\n",
    "## 표준 정규 분포\n",
    "\n",
    "표준 정규 분포는 평균이 0이고 표준편차가 1인 정규분포를 말합니다. 이는 모든 정규분포를 표준화하여 비교할 수 있게 해주는 기준 분포로, 통계학에서 매우 중요한 역할을 합니다. \n",
    "\n",
    "![확률_표준정규분포.png](images\\확률_표준정규분포.png)\n",
    "\n",
    "## z점수\n",
    "\n",
    "z점수(Z-score)는 표준 정규분포에서 특정 관측값이 평균으로부터 얼마나 떨어져 있는지를 표준편차 단위로 나타낸 값입니다. 이는 서로 다른 분포에서 나온 값들을 표준화하여 비교할 수 있게 해주는 중요한 통계적 도구입니다. \n",
    "\n",
    "z점수는 (x-μ)/σ 공식으로 계산되며, 여기서 x는 관측값, μ는 평균, σ는 표준편차를 의미합니다.\n",
    "\n",
    "![확률_z점수](images\\확률_z점수.png)\n",
    "\n",
    "# 확률분포의 종류\n",
    "\n",
    "확률분포는 이산형과 연속형으로 나눌 수 있으며, 각각 확률질량함수(PMF)와 확률밀도함수(PDF)로 표현됩니다. 주요 확률분포로는 베르누이 분포, 이항분포, 포아송 분포, 정규분포, 지수분포 등이 있습니다.\n",
    "\n",
    "이러한 확률분포들은 각각 특정 상황과 조건에 적합하게 사용됩니다. 예를 들어, 베르누이 분포는 성공/실패와 같은 이분법적 결과를 모델링할 때 사용하고, 이항분포는 n번의 독립적인 시행에서 성공 횟수를 나타낼 때 활용됩니다. 포아송 분포는 단위 시간 또는 공간에서 발생하는 사건의 수를 모델링하는 데 유용합니다."
   ]
  },
  {
   "cell_type": "markdown",
   "id": "25e42d82",
   "metadata": {},
   "source": []
  },
  {
   "cell_type": "code",
   "execution_count": 31,
   "id": "d5dbcca1",
   "metadata": {},
   "outputs": [
    {
     "data": {
      "text/plain": [
       "(1.0, 2.5)"
      ]
     },
     "execution_count": 31,
     "metadata": {},
     "output_type": "execute_result"
    }
   ],
   "source": [
    "mu = 100\n",
    "sigma = 10\n",
    "\n",
    "x1 = 110  #z점수를 계산하려고 하는 원래 점수\n",
    "x2 = 125\n",
    "\n",
    "#z점수 = 원점수 - 평균 / 표준편차\n",
    "z_x1 = (x1 - mu)/sigma\n",
    "z_x2 = (x2 - mu)/sigma\n",
    "z_x1, z_x2"
   ]
  },
  {
   "cell_type": "markdown",
   "id": "a8cac99b",
   "metadata": {},
   "source": [
    "z_x1 = 0.8413 -> 0.5 -> 0.3413\n",
    "z_x2 = 0.9938 -> -0.5 > 0.4938\n",
    "\n",
    "0.4938 - 0.3413 = 0.1525  15% "
   ]
  },
  {
   "cell_type": "markdown",
   "id": "273f1799",
   "metadata": {},
   "source": [
    "전체 분포에서 x1~x2 사이의 면적"
   ]
  },
  {
   "cell_type": "code",
   "execution_count": 32,
   "id": "df164f5c",
   "metadata": {},
   "outputs": [
    {
     "data": {
      "text/plain": [
       "np.float64(0.15244558860568092)"
      ]
     },
     "execution_count": 32,
     "metadata": {},
     "output_type": "execute_result"
    }
   ],
   "source": [
    "area_z_x1 = norm.cdf(z_x1) - norm.cdf(0)\n",
    "area_z_x2 = norm.cdf(z_x2) - norm.cdf(0)\n",
    "diff_area = area_z_x2 - area_z_x1\n",
    "diff_area"
   ]
  },
  {
   "cell_type": "code",
   "execution_count": 33,
   "id": "d4fd9362",
   "metadata": {},
   "outputs": [
    {
     "data": {
      "image/png": "[encoded data removed]",
      "text/plain": [
       "<Figure size 640x480 with 1 Axes>"
      ]
     },
     "metadata": {},
     "output_type": "display_data"
    }
   ],
   "source": [
    "# 시각화\n",
    "x = np.linspace(mu-4*sigma, mu+4*sigma, 1000)\n",
    "y = norm.pdf(x, mu, sigma)\n",
    "plt.plot(x,y)\n",
    "plt.fill_between(x,y, where=(x>=100)&(x<=110), color='skyblue')\n",
    "plt.fill_between(x,y, where=(x>110)&(x<=125), color='lightgreen')\n",
    "plt.show()"
   ]
  },
  {
   "cell_type": "code",
   "execution_count": 30,
   "id": "18f868ba",
   "metadata": {},
   "outputs": [
    {
     "data": {
      "image/png": "[encoded data removed]",
      "text/plain": [
       "<Figure size 640x480 with 1 Axes>"
      ]
     },
     "metadata": {},
     "output_type": "display_data"
    }
   ],
   "source": [
    "# 표집분포 \n",
    "\n",
    "np.random.seed(0)\n",
    "X_pop = np.random.exponential(scale=10, size=10000)\n",
    "sample_mean = [np.mean(np.random.choice(X_pop, size=30))\n",
    "                 for _ in range(10000)]\n",
    "\n",
    "plt.hist(sample_mean, bins=300)\n",
    "plt.show()"
   ]
  },
  {
   "cell_type": "code",
   "execution_count": null,
   "id": "cb307b42",
   "metadata": {},
   "outputs": [],
   "source": []
  }
 ],
 "metadata": {
  "kernelspec": {
   "display_name": "hipython",
   "language": "python",
   "name": "python3"
  },
  "language_info": {
   "codemirror_mode": {
    "name": "ipython",
    "version": 3
   },
   "file_extension": ".py",
   "mimetype": "text/x-python",
   "name": "python",
   "nbconvert_exporter": "python",
   "pygments_lexer": "ipython3",
   "version": "3.12.9"
  }
 },
 "nbformat": 4,
 "nbformat_minor": 5
}
