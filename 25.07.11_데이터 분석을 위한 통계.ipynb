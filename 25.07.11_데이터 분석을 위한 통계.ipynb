{
 "cells": [
  {
   "cell_type": "markdown",
   "id": "261e659a",
   "metadata": {},
   "source": [
    "# 데이터 분석을 위한 통계\n",
    "### 25.07.11 (9주42일차) \n",
    "- pip install scipy\n",
    "- %pip install scipy\n"
   ]
  },
  {
   "cell_type": "markdown",
   "id": "06513f21",
   "metadata": {},
   "source": [
    "## 중심을 대표 값 - 데이터의 대표값 찾기\n",
    "\n",
    "- 중심 경향성은 데이터의 중심이 어디에 위치하는지를 나타내는 값\n",
    "- 주로 평균(Mean), 중앙값(Median), 최빈값(Mode) 을 사용함\n",
    "\n",
    "\n",
    " ### 평균(Mean)\n",
    "\n",
    "- 가장 널리 활용되는 평균(average) 유형에 해당\n",
    "- 특정 집단의 모든 값의 합계를 그 집단에 속한 값들의 개수로 나눈 값을 의미"
   ]
  },
  {
   "cell_type": "markdown",
   "id": "6e8b38c4",
   "metadata": {},
   "source": [
    "![기술통계](images/기술통계.png)\n"
   ]
  },
  {
   "cell_type": "markdown",
   "id": "857c822b",
   "metadata": {},
   "source": [
    "- 평균이 높을수록 데이터 값들이 전반적으로 크다는 의미\n",
    "- 평균의 종류\n",
    "    \n",
    "    **산술평균(Arithmetic Mean)**\n",
    "    • 모든자료를합한후전체자료수로나눠계산하는일반적인평균\n",
    "    • 모평균: 모집단전체자료의산술평균\n",
    "    • 표본평균: 모집단의부분집합인추출된표본전체의산술평균\n",
    "    \n",
    "    **기하평균(Geometric Mean)**\n",
    "    • N개의자료에대해관측치를곱한후n 제곱근으로표현\n",
    "    • ex. 다기간의수익률에대한평균수익률, 평균물가상승률\n",
    "    \n",
    "    **조화평균(Harmonic Mean)**\n",
    "    • 각요소의역수의산술평균을구한후다시역수를취하는형태로표현\n",
    "    • ex. 변화율등의 평균\n",
    "    \n",
    "    <aside>\n",
    "    💡\n",
    "    \n",
    "     {1, 2, 3}의 조화평균은 3 / (1/1 + 1/2 + 1/3) = 약 1.636\n",
    "    \n",
    "    </aside>\n",
    "    \n",
    "    **가중평균 (Weighted Mean) :** \n",
    "    \n",
    "    • 표본의 원소들의 값에 가중치를 부여하여 계산한 평균.\n",
    "    • 모든 원소들의 값이 동일한 중요도를 가지지 않을 때 사용.\n",
    "    \n",
    "    <aside>\n",
    "    💡\n",
    "    \n",
    "    5천원짜리 상품 8개와 9천원짜리 상품 2개를 구입했을 때 평균 구매값은\n",
    "    (5000 * 8 + 9000 * 2) / (8 + 2) = 5800\n",
    "    \n",
    "    </aside>"
   ]
  },
  {
   "cell_type": "code",
   "execution_count": 4,
   "id": "24b2d806",
   "metadata": {},
   "outputs": [
    {
     "name": "stdout",
     "output_type": "stream",
     "text": [
      "35.0\n"
     ]
    }
   ],
   "source": [
    "import numpy as np\n",
    "# 산술평균\n",
    "data = [10, 20, 30, 40, 50, 60]\n",
    "mean_value = np.mean(data)\n",
    "print(mean_value)  # 30.0"
   ]
  },
  {
   "cell_type": "code",
   "execution_count": 5,
   "id": "08bf7d51",
   "metadata": {},
   "outputs": [
    {
     "data": {
      "text/plain": [
       "np.float64(29.9379516552391)"
      ]
     },
     "execution_count": 5,
     "metadata": {},
     "output_type": "execute_result"
    }
   ],
   "source": [
    "# 기하평균\n",
    "from scipy.stats import hmean, gmean\n",
    "gmean(data)\n"
   ]
  },
  {
   "cell_type": "code",
   "execution_count": 6,
   "id": "584139ec",
   "metadata": {},
   "outputs": [
    {
     "data": {
      "text/plain": [
       "np.float64(24.489795918367346)"
      ]
     },
     "execution_count": 6,
     "metadata": {},
     "output_type": "execute_result"
    }
   ],
   "source": [
    "#조화평균\n",
    "hmean(data)"
   ]
  },
  {
   "cell_type": "code",
   "execution_count": 7,
   "id": "0fded56c",
   "metadata": {},
   "outputs": [
    {
     "data": {
      "text/plain": [
       "np.float64(5800.0)"
      ]
     },
     "execution_count": 7,
     "metadata": {},
     "output_type": "execute_result"
    }
   ],
   "source": [
    "#가중평균\n",
    "# 가격과 개수\n",
    "prices = [5000, 9000]\n",
    "counts = [8, 2]\n",
    "\n",
    "np.average(prices, weights=counts)\n"
   ]
  },
  {
   "cell_type": "code",
   "execution_count": 8,
   "id": "09d558a7",
   "metadata": {},
   "outputs": [
    {
     "name": "stdout",
     "output_type": "stream",
     "text": [
      "기하평균 (gmean): 3.0000000000000004\n",
      "조화평균 (hmean): 2.076923076923077\n"
     ]
    }
   ],
   "source": [
    "# 25.07.11_데이터 분석을 위한 통계.ipynb\n",
    "from scipy.stats import hmean, gmean\n",
    "\n",
    "data = [1, 3, 9]\n",
    "\n",
    "print(\"기하평균 (gmean):\", gmean(data))\n",
    "print(\"조화평균 (hmean):\", hmean(data))\n"
   ]
  },
  {
   "cell_type": "markdown",
   "id": "8ca22183",
   "metadata": {},
   "source": [
    "### 대표값 - 중앙값"
   ]
  },
  {
   "cell_type": "code",
   "execution_count": 9,
   "id": "c9928bfb",
   "metadata": {},
   "outputs": [
    {
     "data": {
      "text/plain": [
       "[1, 3, 9]"
      ]
     },
     "execution_count": 9,
     "metadata": {},
     "output_type": "execute_result"
    }
   ],
   "source": [
    "data"
   ]
  },
  {
   "cell_type": "markdown",
   "id": "4a86dd9a",
   "metadata": {},
   "source": [
    "### 백분위수"
   ]
  },
  {
   "cell_type": "code",
   "execution_count": 10,
   "id": "f59fb3e5",
   "metadata": {},
   "outputs": [
    {
     "data": {
      "text/plain": [
       "(np.float64(75.0), np.float64(80.0), np.float64(85.0))"
      ]
     },
     "execution_count": 10,
     "metadata": {},
     "output_type": "execute_result"
    }
   ],
   "source": [
    "import numpy as np\n",
    "\n",
    "#scores = [65, 75, 80, 85, 95]\n",
    "scores = [15, 75, 80, 85, 95]\n",
    "p25 = np.percentile(scores, 25) #Q1\n",
    "p50 = np.percentile(scores, 50) #Q2, median\n",
    "p75 = np.percentile(scores, 75) #Q3\n",
    "\n",
    "p25, p50, p75"
   ]
  },
  {
   "cell_type": "code",
   "execution_count": 11,
   "id": "6ba0289a",
   "metadata": {},
   "outputs": [
    {
     "data": {
      "text/plain": [
       "np.float64(10.0)"
      ]
     },
     "execution_count": 11,
     "metadata": {},
     "output_type": "execute_result"
    }
   ],
   "source": [
    "# IQR : 사분위범위 Q3-Q1 = 85-75 = 10\n",
    "p75-p25"
   ]
  },
  {
   "cell_type": "markdown",
   "id": "55a80063",
   "metadata": {},
   "source": [
    "중앙값, 분위수는 개수(위치)를 중요시하는 통계량\n",
    "이상값/극단적인 값이 중요하지 않다."
   ]
  },
  {
   "cell_type": "markdown",
   "id": "1a246193",
   "metadata": {},
   "source": [
    "### 중앙값(Median)\n",
    "\n",
    "- 자료를 크기순으로 나열했을 때 가운데에 위치한 값\n",
    "- 중앙값은 이상치(outlier)의 영향을 덜 받음\n",
    "- 짝수 개의 값들이 있을 때 중앙값은 중간에 있는 두 값의 평균을 구함"
   ]
  },
  {
   "cell_type": "markdown",
   "id": "690b72c8",
   "metadata": {},
   "source": [
    "### 백분위수\n",
    "\n",
    "- 백분위수 ~ 한 분포나 점수 집합에서 특정 값과 같거나 작은 경우의 백분율을 정의하는 데 사용.\n",
    "- 예: '75번째 백분위수'의 점수 ~ 분포에 있는 다른 점수들의 75% 이상을 의미.\n",
    "- 중앙값 ~ '50번째 백분위수'라고도 함. 이 값 아래에 분포의 50%가 존재하기 때문.\n",
    "- 다른 유용한 백분위수들 ~ Q1(25번째 백분위수)과 Q3(75번째 백분위수).\n",
    "- Q2 ~ 몇 번째 백분위수? 물론 중앙값에 해당."
   ]
  },
  {
   "cell_type": "markdown",
   "id": "b0ff341a",
   "metadata": {},
   "source": [
    "## 대표값 - \n",
    "### 최빈값(Mode)\n",
    "\n",
    "- 자료에서 가장 자주 나타나는 값으로, 데이터의 빈도를 기반으로 함.\n",
    "- 연속형 데이터보다는 범주형 데이터에서 더 유용하게 사용됨.\n",
    "- 예를 들어, 학생들이 선호하는 과목이나 설문조사의 응답 항목 등에서 활용됨.\n",
    "- 분포에 속한 모든 값들을 1번씩만 나열하고 각 값이 발생하는 횟수(빈도수)를 계산해서 가장 자주 발생하는 값\n",
    "- 최빈값은 데이터의 분포를 이해하는 데 도움을 줌"
   ]
  },
  {
   "cell_type": "code",
   "execution_count": 12,
   "id": "44e15abe",
   "metadata": {},
   "outputs": [
    {
     "name": "stdout",
     "output_type": "stream",
     "text": [
      "0    3\n",
      "dtype: int64\n"
     ]
    }
   ],
   "source": [
    "import pandas as pd\n",
    "\n",
    "data = pd.Series([1, 2, 2, 3, 3, 3, 4, 4])\n",
    "mode_value = data.mode()\n",
    "print(mode_value)  # 3 (가장 많이 등장한 값)"
   ]
  },
  {
   "cell_type": "markdown",
   "id": "e99cc0ee",
   "metadata": {},
   "source": [
    "### 범위의 계산 > 변동성을 측정하는 일반적인 지표 > 극단적인값에 민감\n",
    "\n",
    "- 최대/최소 2개의 값만 사용\n",
    "- 개별점수들이 다른 점수들과 얼마나 차이가 있나x\n",
    "- 실제 데이터가 어떤 값들로 구성되어 잇는지를 설명할 수 없다.\n"
   ]
  },
  {
   "cell_type": "code",
   "execution_count": 13,
   "id": "712ffa91",
   "metadata": {},
   "outputs": [
    {
     "name": "stdout",
     "output_type": "stream",
     "text": [
      "40\n"
     ]
    }
   ],
   "source": [
    "data = [10, 20, 30, 40, 50]\n",
    "range_value = max(data) - min(data)\n",
    "print(range_value)  # 40"
   ]
  },
  {
   "cell_type": "code",
   "execution_count": 14,
   "id": "1f2569b9",
   "metadata": {},
   "outputs": [
    {
     "data": {
      "text/plain": [
       "<matplotlib.collections.PathCollection at 0x1dd531bd1c0>"
      ]
     },
     "execution_count": 14,
     "metadata": {},
     "output_type": "execute_result"
    },
    {
     "data": {
      "image/png": "[encoded data removed]",
      "text/plain": [
       "<Figure size 640x480 with 1 Axes>"
      ]
     },
     "metadata": {},
     "output_type": "display_data"
    }
   ],
   "source": [
    "import matplotlib.pyplot as plt\n",
    "plt.scatter(data, np.zeros_like(data))"
   ]
  },
  {
   "cell_type": "code",
   "execution_count": 15,
   "id": "167423e1",
   "metadata": {},
   "outputs": [
    {
     "data": {
      "application/vnd.microsoft.datawrangler.viewer.v0+json": {
       "columns": [
        {
         "name": "index",
         "rawType": "int64",
         "type": "integer"
        },
        {
         "name": "sepal_length",
         "rawType": "float64",
         "type": "float"
        },
        {
         "name": "sepal_width",
         "rawType": "float64",
         "type": "float"
        },
        {
         "name": "petal_length",
         "rawType": "float64",
         "type": "float"
        },
        {
         "name": "petal_width",
         "rawType": "float64",
         "type": "float"
        },
        {
         "name": "species",
         "rawType": "object",
         "type": "string"
        }
       ],
       "ref": "fb7fabda-c39e-4791-8fd9-4c0932e13406",
       "rows": [
        [
         "0",
         "5.1",
         "3.5",
         "1.4",
         "0.2",
         "setosa"
        ],
        [
         "1",
         "4.9",
         "3.0",
         "1.4",
         "0.2",
         "setosa"
        ],
        [
         "2",
         "4.7",
         "3.2",
         "1.3",
         "0.2",
         "setosa"
        ],
        [
         "3",
         "4.6",
         "3.1",
         "1.5",
         "0.2",
         "setosa"
        ],
        [
         "4",
         "5.0",
         "3.6",
         "1.4",
         "0.2",
         "setosa"
        ]
       ],
       "shape": {
        "columns": 5,
        "rows": 5
       }
      },
      "text/html": [
       "<div>\n",
       "<style scoped>\n",
       "    .dataframe tbody tr th:only-of-type {\n",
       "        vertical-align: middle;\n",
       "    }\n",
       "\n",
       "    .dataframe tbody tr th {\n",
       "        vertical-align: top;\n",
       "    }\n",
       "\n",
       "    .dataframe thead th {\n",
       "        text-align: right;\n",
       "    }\n",
       "</style>\n",
       "<table border=\"1\" class=\"dataframe\">\n",
       "  <thead>\n",
       "    <tr style=\"text-align: right;\">\n",
       "      <th></th>\n",
       "      <th>sepal_length</th>\n",
       "      <th>sepal_width</th>\n",
       "      <th>petal_length</th>\n",
       "      <th>petal_width</th>\n",
       "      <th>species</th>\n",
       "    </tr>\n",
       "  </thead>\n",
       "  <tbody>\n",
       "    <tr>\n",
       "      <th>0</th>\n",
       "      <td>5.1</td>\n",
       "      <td>3.5</td>\n",
       "      <td>1.4</td>\n",
       "      <td>0.2</td>\n",
       "      <td>setosa</td>\n",
       "    </tr>\n",
       "    <tr>\n",
       "      <th>1</th>\n",
       "      <td>4.9</td>\n",
       "      <td>3.0</td>\n",
       "      <td>1.4</td>\n",
       "      <td>0.2</td>\n",
       "      <td>setosa</td>\n",
       "    </tr>\n",
       "    <tr>\n",
       "      <th>2</th>\n",
       "      <td>4.7</td>\n",
       "      <td>3.2</td>\n",
       "      <td>1.3</td>\n",
       "      <td>0.2</td>\n",
       "      <td>setosa</td>\n",
       "    </tr>\n",
       "    <tr>\n",
       "      <th>3</th>\n",
       "      <td>4.6</td>\n",
       "      <td>3.1</td>\n",
       "      <td>1.5</td>\n",
       "      <td>0.2</td>\n",
       "      <td>setosa</td>\n",
       "    </tr>\n",
       "    <tr>\n",
       "      <th>4</th>\n",
       "      <td>5.0</td>\n",
       "      <td>3.6</td>\n",
       "      <td>1.4</td>\n",
       "      <td>0.2</td>\n",
       "      <td>setosa</td>\n",
       "    </tr>\n",
       "  </tbody>\n",
       "</table>\n",
       "</div>"
      ],
      "text/plain": [
       "   sepal_length  sepal_width  petal_length  petal_width species\n",
       "0           5.1          3.5           1.4          0.2  setosa\n",
       "1           4.9          3.0           1.4          0.2  setosa\n",
       "2           4.7          3.2           1.3          0.2  setosa\n",
       "3           4.6          3.1           1.5          0.2  setosa\n",
       "4           5.0          3.6           1.4          0.2  setosa"
      ]
     },
     "execution_count": 15,
     "metadata": {},
     "output_type": "execute_result"
    }
   ],
   "source": [
    "import seaborn as sns\n",
    "\n",
    "vp_df = sns.load_dataset('iris')\n",
    "vp_df.head()"
   ]
  },
  {
   "cell_type": "code",
   "execution_count": 16,
   "id": "4769ddb1",
   "metadata": {},
   "outputs": [
    {
     "data": {
      "text/plain": [
       "np.float64(3.6000000000000005)"
      ]
     },
     "execution_count": 16,
     "metadata": {},
     "output_type": "execute_result"
    }
   ],
   "source": [
    "#sepal_length 의 범위\n",
    "vp_df['sepal_length'].max() - vp_df['sepal_length'].min()"
   ]
  },
  {
   "cell_type": "code",
   "execution_count": 17,
   "id": "1960cafe",
   "metadata": {},
   "outputs": [
    {
     "name": "stdout",
     "output_type": "stream",
     "text": [
      "sepal_length의 범위: 3.6000000000000005\n",
      "sepal_width의 범위: 2.4000000000000004\n",
      "petal_length의 범위: 5.9\n",
      "petal_width의 범위: 2.4\n"
     ]
    }
   ],
   "source": [
    "# 모든 속성의 범위를 확인\n",
    "# 반복문\n",
    "for col in vp_df.columns:\n",
    "    if pd.api.types.is_numeric_dtype(vp_df[col]):\n",
    "        print(f\"{col}의 범위: {vp_df[col].max() - vp_df[col].min()}\")  \n",
    "    else:\n",
    "      pass"
   ]
  },
  {
   "cell_type": "markdown",
   "id": "44576c66",
   "metadata": {},
   "source": [
    "변동성이 가장 큰 속성은 petal_length입니다.\n",
    "petal_length와 petal_width가 sepal_length와 sepal_width보다 상대적으로 변동성이 큽니다.\n",
    "\n",
    "모델 생성시에 다루어야하는 속성으로 볼 수 있습니다.\n"
   ]
  },
  {
   "cell_type": "code",
   "execution_count": 18,
   "id": "aeb17a4d",
   "metadata": {},
   "outputs": [],
   "source": [
    "# 산포도로 변동성 확인하기\n",
    "#petal_length와 petal_width\n",
    "#sepal_length와 sepal_width"
   ]
  },
  {
   "cell_type": "code",
   "execution_count": 19,
   "id": "feafff6d",
   "metadata": {},
   "outputs": [
    {
     "data": {
      "image/png": "[encoded data removed]",
      "text/plain": [
       "<Figure size 640x480 with 1 Axes>"
      ]
     },
     "metadata": {},
     "output_type": "display_data"
    }
   ],
   "source": [
    "import matplotlib.pyplot as plt\n",
    "plt.scatter(vp_df['sepal_length'], vp_df['sepal_width'])\n",
    "plt.xlabel('sepal_length')\n",
    "plt.ylabel('sepal_width')\n",
    "plt.title('Sepal Length vs Sepal Width')\n",
    "plt.show()"
   ]
  },
  {
   "cell_type": "code",
   "execution_count": 20,
   "id": "f9745be4",
   "metadata": {},
   "outputs": [
    {
     "data": {
      "image/png": "[encoded data removed]",
      "text/plain": [
       "<Figure size 640x480 with 1 Axes>"
      ]
     },
     "metadata": {},
     "output_type": "display_data"
    }
   ],
   "source": [
    "import matplotlib.pyplot as plt\n",
    "plt.scatter(vp_df['petal_length'], vp_df['petal_width'])\n",
    "plt.xlabel('petal_length')\n",
    "plt.ylabel('petal_width')\n",
    "plt.title('petal_length vs petal_width')\n",
    "plt.show()"
   ]
  },
  {
   "cell_type": "markdown",
   "id": "aed7aa02",
   "metadata": {},
   "source": [
    "산포도를 이용해 극단적으로 다른 데이터(이상치)가 있는지를 확인해야 한다."
   ]
  },
  {
   "cell_type": "markdown",
   "id": "ec9e58a0",
   "metadata": {},
   "source": []
  },
  {
   "cell_type": "markdown",
   "id": "cfb3ead9",
   "metadata": {},
   "source": [
    "# 변동 (산포) - 데이터의 퍼짐 정도 측정\n",
    "\n",
    "### 변동성(variability, spread 또는 dispersion)\n",
    "\n",
    "값들이 서로 얼마나 다른지를 나타내는 개념이고 측정하는 기준이다.\n",
    "![변동1](images/변동1.png)\n",
    "\n",
    "\n",
    "\n",
    "위의 점수 집합은 동일한 평균(4)이지만, 변동성은 오른쪽이 더 작다.\n",
    "\n",
    "![변동2](images/변동2.png)\n",
    "\n",
    "\n",
    "전체의 평균은 동일, 하지만 집합 내의 점수들 간에 차이가 존재하지 않아 변동성이 없다.  \n",
    "\n",
    "### 범위\n",
    "\n",
    "가장 일반적으로 사용되는 변동성(variability) 측정치로 분포 내의 가장 높은 점수에서 가장 낮은 점수를 뺀 값으로 계산한다.\n",
    "\n",
    "![범위1](images/범위1.png)\n",
    "\n",
    "\n",
    "![범위2](images/범위2.png)\n",
    "\n",
    "\n",
    "```python\n",
    "data = [10, 20, 30, 40, 50]\n",
    "range_value = max(data) - min(data)\n",
    "print(range_value)  # 40\n",
    "```\n",
    "\n",
    "- **범위 값이 클수록 데이터의 변동이 크다는 의미로** 단순해서 많이 사용되지만, 극단값(outlier)에 민감함\n",
    "\n",
    "- 산포도(Dispersion) 는 데이터가 얼마나 흩어져 있는지를 나타내는 지표\n",
    "- 산포도를 확인하면 데이터의 변동성을 파악할 수 있으며, 값이 극단적으로 다른 데이터(이상치)가 있는지도 확인 가능"
   ]
  },
  {
   "cell_type": "markdown",
   "id": "616d1e1b",
   "metadata": {},
   "source": [
    "\n",
    "\n",
    "# 분산(Variance)\n",
    "\n",
    "평균을 중심으로 데이터가 밀집되거나 퍼져 있는 정도를 나타내는 척도\n",
    "\n",
    "- 표준편차는 원래의 단위로 표시됨 (편차의 제곱을 합산한 값의 평균에 제곱근을 취하기 때문)\n",
    "- 분산은 제곱된 단위로 표시됨 (제곱근을 취하지 않음)\n",
    "- 예를 들어 회로기판 조립 작업자들의 생산성 변동성 측정 시, 표준편차는 실제 생산 단위로 해석 가능"
   ]
  },
  {
   "cell_type": "code",
   "execution_count": 21,
   "id": "8b1f629b",
   "metadata": {},
   "outputs": [
    {
     "name": "stdout",
     "output_type": "stream",
     "text": [
      "200.0\n"
     ]
    }
   ],
   "source": [
    "import numpy as np\n",
    "\n",
    "data = [10, 20, 30, 40, 50]\n",
    "variance_value = np.var(data)\n",
    "print(variance_value)  # 200.0"
   ]
  },
  {
   "cell_type": "code",
   "execution_count": 22,
   "id": "44b130d2",
   "metadata": {},
   "outputs": [
    {
     "name": "stdout",
     "output_type": "stream",
     "text": [
      "14.142135623730951\n"
     ]
    }
   ],
   "source": [
    "import numpy as np\n",
    "\n",
    "std_dev = np.std(data)\n",
    "print(std_dev)  # 14.14"
   ]
  },
  {
   "cell_type": "markdown",
   "id": "bbc57939",
   "metadata": {},
   "source": [
    "# 표준편차의 비교\n",
    "\n",
    "### 표준편차(Standard Deviation)\n",
    "\n",
    "어떤 표준(standard)으로 부터 벗어난(deviate) 정도를 의미\n",
    "\n",
    "- 표준편차(줄임말 s 또는 SD)는 일련의 점수들의 **평균적인 변동량**을 나타냄\n",
    "- 실질적으로는 평균(mean)과 각 점수들과의 차이의 평균에 해당\n",
    "- 표준편차가 클수록, 각 데이터가 그 분포의 평균으로부터 멀리 떨어져 있는 것을 의미"
   ]
  },
  {
   "cell_type": "code",
   "execution_count": 23,
   "id": "be45e7f5",
   "metadata": {},
   "outputs": [],
   "source": [
    "# sd의 비교\n",
    "import numpy as np\n",
    "import matplotlib.pyplot as plt\n",
    "\n",
    "# 평균과 표준편차 설정\n",
    "mu = 100\n",
    "sd1 = 10\n",
    "sd2 = 50\n",
    "\n",
    "# 정규분포 데이터 생성\n",
    "data1 = np.random.normal(mu, sd1, 10000)\n",
    "data2 = np.random.normal(mu, sd2, 10000)"
   ]
  },
  {
   "cell_type": "code",
   "execution_count": 24,
   "id": "fd66f136",
   "metadata": {},
   "outputs": [
    {
     "data": {
      "text/plain": [
       "array([  0,  10,  20,  30,  40,  50,  60,  70,  80,  90, 100, 110, 120,\n",
       "       130, 140, 150, 160, 170, 180, 190, 200, 210, 220, 230])"
      ]
     },
     "execution_count": 24,
     "metadata": {},
     "output_type": "execute_result"
    }
   ],
   "source": [
    "bins = np.arange(0,240, 10)\n",
    "bins"
   ]
  },
  {
   "cell_type": "code",
   "execution_count": 25,
   "id": "eb3134e5",
   "metadata": {},
   "outputs": [
    {
     "data": {
      "text/plain": [
       "<matplotlib.lines.Line2D at 0x1dd532160f0>"
      ]
     },
     "execution_count": 25,
     "metadata": {},
     "output_type": "execute_result"
    },
    {
     "data": {
      "image/png": "[encoded data removed]",
      "text/plain": [
       "<Figure size 640x480 with 1 Axes>"
      ]
     },
     "metadata": {},
     "output_type": "display_data"
    }
   ],
   "source": [
    "plt.hist(data1, bins=bins, color='red', alpha=0.5)\n",
    "plt.hist(data2, bins=bins, color='blue', alpha=0.5)\n",
    "\n",
    "#평균선 표시\n",
    "plt.axvline(mu, color='black', linestyle='--')\n"
   ]
  },
  {
   "cell_type": "markdown",
   "id": "a3071fdb",
   "metadata": {},
   "source": [
    "### iris dataset 의 속성들의 표준편차 비교분석"
   ]
  },
  {
   "cell_type": "code",
   "execution_count": 26,
   "id": "18fe2627",
   "metadata": {},
   "outputs": [
    {
     "name": "stdout",
     "output_type": "stream",
     "text": [
      "🌼 iris 속성별 변동성 비교 (표준편차 vs IQR):\n"
     ]
    },
    {
     "data": {
      "application/vnd.microsoft.datawrangler.viewer.v0+json": {
       "columns": [
        {
         "name": "index",
         "rawType": "object",
         "type": "string"
        },
        {
         "name": "표준편차",
         "rawType": "float64",
         "type": "float"
        },
        {
         "name": "사분위범위(IQR)",
         "rawType": "float64",
         "type": "float"
        }
       ],
       "ref": "2a010a4b-9c7b-41fe-8e0e-9e5c62aba21e",
       "rows": [
        [
         "sepal_length",
         "0.828066127977863",
         "1.3000000000000007"
        ],
        [
         "sepal_width",
         "0.4358662849366982",
         "0.5"
        ],
        [
         "petal_length",
         "1.7652982332594662",
         "3.4999999999999996"
        ],
        [
         "petal_width",
         "0.7622376689603465",
         "1.5"
        ]
       ],
       "shape": {
        "columns": 2,
        "rows": 4
       }
      },
      "text/html": [
       "<div>\n",
       "<style scoped>\n",
       "    .dataframe tbody tr th:only-of-type {\n",
       "        vertical-align: middle;\n",
       "    }\n",
       "\n",
       "    .dataframe tbody tr th {\n",
       "        vertical-align: top;\n",
       "    }\n",
       "\n",
       "    .dataframe thead th {\n",
       "        text-align: right;\n",
       "    }\n",
       "</style>\n",
       "<table border=\"1\" class=\"dataframe\">\n",
       "  <thead>\n",
       "    <tr style=\"text-align: right;\">\n",
       "      <th></th>\n",
       "      <th>표준편차</th>\n",
       "      <th>사분위범위(IQR)</th>\n",
       "    </tr>\n",
       "  </thead>\n",
       "  <tbody>\n",
       "    <tr>\n",
       "      <th>sepal_length</th>\n",
       "      <td>0.828066</td>\n",
       "      <td>1.3</td>\n",
       "    </tr>\n",
       "    <tr>\n",
       "      <th>sepal_width</th>\n",
       "      <td>0.435866</td>\n",
       "      <td>0.5</td>\n",
       "    </tr>\n",
       "    <tr>\n",
       "      <th>petal_length</th>\n",
       "      <td>1.765298</td>\n",
       "      <td>3.5</td>\n",
       "    </tr>\n",
       "    <tr>\n",
       "      <th>petal_width</th>\n",
       "      <td>0.762238</td>\n",
       "      <td>1.5</td>\n",
       "    </tr>\n",
       "  </tbody>\n",
       "</table>\n",
       "</div>"
      ],
      "text/plain": [
       "                  표준편차  사분위범위(IQR)\n",
       "sepal_length  0.828066         1.3\n",
       "sepal_width   0.435866         0.5\n",
       "petal_length  1.765298         3.5\n",
       "petal_width   0.762238         1.5"
      ]
     },
     "metadata": {},
     "output_type": "display_data"
    }
   ],
   "source": [
    "import pandas as pd\n",
    "import seaborn as sns\n",
    "\n",
    "# 1. iris 데이터셋 불러오기\n",
    "iris = sns.load_dataset(\"iris\")\n",
    "\n",
    "# 2. 수치형 속성 추출\n",
    "numeric_cols = ['sepal_length', 'sepal_width', 'petal_length', 'petal_width']\n",
    "\n",
    "# 3. 표준편차 계산\n",
    "stds = iris[numeric_cols].std()\n",
    "\n",
    "# 4. 사분위범위(IQR) 계산\n",
    "q75 = iris[numeric_cols].quantile(0.75)\n",
    "q25 = iris[numeric_cols].quantile(0.25)\n",
    "iqrs = q75 - q25\n",
    "\n",
    "# 5. 비교표 작성\n",
    "summary_df = pd.DataFrame({\n",
    "    '표준편차': stds,\n",
    "    '사분위범위(IQR)': iqrs\n",
    "})\n",
    "\n",
    "# 6. 표 보기\n",
    "print(\"🌼 iris 속성별 변동성 비교 (표준편차 vs IQR):\")\n",
    "display(summary_df)"
   ]
  },
  {
   "cell_type": "code",
   "execution_count": 27,
   "id": "e7a1cf5c",
   "metadata": {},
   "outputs": [
    {
     "data": {
      "image/png": "[encoded data removed]",
      "text/plain": [
       "<Figure size 800x500 with 1 Axes>"
      ]
     },
     "metadata": {},
     "output_type": "display_data"
    }
   ],
   "source": [
    "# 25.07.11_iris_한글폰트설정.ipynb\n",
    "\n",
    "import matplotlib.pyplot as plt\n",
    "import matplotlib as mpl\n",
    "\n",
    "# 한글 폰트 설정\n",
    "mpl.rcParams['font.family'] = 'Malgun Gothic'\n",
    "\n",
    "# 마이너스 기호 깨짐 방지\n",
    "mpl.rcParams['axes.unicode_minus'] = False\n",
    "summary_df.plot(kind='bar', figsize=(8, 5))\n",
    "plt.title(\"Iris 속성별 표준편차 vs IQR 비교\")\n",
    "plt.ylabel(\"값\")\n",
    "plt.xticks(rotation=0)\n",
    "plt.grid(axis='y', linestyle='--', alpha=0.5)\n",
    "plt.tight_layout()\n",
    "plt.show()\n"
   ]
  },
  {
   "cell_type": "markdown",
   "id": "b7973028",
   "metadata": {},
   "source": [
    "### 사분위수 범위(Interquartile Range, IQR)\n",
    "\n",
    "사분위수 범위(IQR)는 데이터의 중간 50%를 포함하는 구간으로, 상위 25%와 하위 25%를 제외한 나머지 데이터의 범위로 제1사분위수(Q1)와 제3사분위수(Q3)의 차이로 계산\n",
    "\n",
    "- IQR은 이상치(outlier)에 민감하지 않아 데이터의 변동성을 측정하는 방법으로 활용\n",
    "- 데이터의 중앙 50%가 포함된 범위로, Q3(3사분위수)와 Q1(1사분위수)의 차이\n"
   ]
  },
  {
   "cell_type": "code",
   "execution_count": 28,
   "id": "6b6ad153",
   "metadata": {},
   "outputs": [
    {
     "data": {
      "application/vnd.microsoft.datawrangler.viewer.v0+json": {
       "columns": [
        {
         "name": "index",
         "rawType": "object",
         "type": "string"
        },
        {
         "name": "Q1",
         "rawType": "float64",
         "type": "float"
        },
        {
         "name": "Q3",
         "rawType": "float64",
         "type": "float"
        },
        {
         "name": "IQR",
         "rawType": "float64",
         "type": "float"
        }
       ],
       "ref": "6a9de503-0360-4d7a-87fd-a45d4ee26dc5",
       "rows": [
        [
         "sepal_length",
         "5.1",
         "6.4",
         "1.3000000000000007"
        ],
        [
         "sepal_width",
         "2.8",
         "3.3",
         "0.5"
        ],
        [
         "petal_length",
         "1.6",
         "5.1",
         "3.4999999999999996"
        ],
        [
         "petal_width",
         "0.3",
         "1.8",
         "1.5"
        ]
       ],
       "shape": {
        "columns": 3,
        "rows": 4
       }
      },
      "text/html": [
       "<div>\n",
       "<style scoped>\n",
       "    .dataframe tbody tr th:only-of-type {\n",
       "        vertical-align: middle;\n",
       "    }\n",
       "\n",
       "    .dataframe tbody tr th {\n",
       "        vertical-align: top;\n",
       "    }\n",
       "\n",
       "    .dataframe thead th {\n",
       "        text-align: right;\n",
       "    }\n",
       "</style>\n",
       "<table border=\"1\" class=\"dataframe\">\n",
       "  <thead>\n",
       "    <tr style=\"text-align: right;\">\n",
       "      <th></th>\n",
       "      <th>Q1</th>\n",
       "      <th>Q3</th>\n",
       "      <th>IQR</th>\n",
       "    </tr>\n",
       "  </thead>\n",
       "  <tbody>\n",
       "    <tr>\n",
       "      <th>sepal_length</th>\n",
       "      <td>5.1</td>\n",
       "      <td>6.4</td>\n",
       "      <td>1.3</td>\n",
       "    </tr>\n",
       "    <tr>\n",
       "      <th>sepal_width</th>\n",
       "      <td>2.8</td>\n",
       "      <td>3.3</td>\n",
       "      <td>0.5</td>\n",
       "    </tr>\n",
       "    <tr>\n",
       "      <th>petal_length</th>\n",
       "      <td>1.6</td>\n",
       "      <td>5.1</td>\n",
       "      <td>3.5</td>\n",
       "    </tr>\n",
       "    <tr>\n",
       "      <th>petal_width</th>\n",
       "      <td>0.3</td>\n",
       "      <td>1.8</td>\n",
       "      <td>1.5</td>\n",
       "    </tr>\n",
       "  </tbody>\n",
       "</table>\n",
       "</div>"
      ],
      "text/plain": [
       "               Q1   Q3  IQR\n",
       "sepal_length  5.1  6.4  1.3\n",
       "sepal_width   2.8  3.3  0.5\n",
       "petal_length  1.6  5.1  3.5\n",
       "petal_width   0.3  1.8  1.5"
      ]
     },
     "execution_count": 28,
     "metadata": {},
     "output_type": "execute_result"
    }
   ],
   "source": [
    "numeric_df = vp_df.select_dtypes(include=['float64', 'int'])\n",
    "\n",
    "Q1 = numeric_df.quantile(0.25)\n",
    "Q3 = numeric_df.quantile(0.75)\n",
    "IQR = Q3-Q1\n",
    "\n",
    "summ = pd.DataFrame({'Q1': Q1,\n",
    "              'Q3': Q3,\n",
    "              'IQR': IQR,})\n",
    "summ"
   ]
  },
  {
   "cell_type": "markdown",
   "id": "e09183f3",
   "metadata": {},
   "source": [
    "![IQR 범위](images/iqr_range.png)\n"
   ]
  },
  {
   "cell_type": "code",
   "execution_count": 29,
   "id": "8fef0437",
   "metadata": {},
   "outputs": [
    {
     "data": {
      "image/png": "[encoded data removed]",
      "text/plain": [
       "<IPython.core.display.Image object>"
      ]
     },
     "metadata": {},
     "output_type": "display_data"
    }
   ],
   "source": [
    "from IPython.display import Image, display\n",
    "\n",
    "display(Image(filename=\"images/iqr_range.png\"))\n"
   ]
  },
  {
   "cell_type": "markdown",
   "id": "b60d9302",
   "metadata": {},
   "source": [
    "**첨도 (Kurtosis) : 분포의 뾰족함과 꼬리의 두꺼움을 측정하는 지표**\n",
    "\n",
    "데이터의 분포가 얼마나 뾰족한지를 통해 데이터가 정상적인 분포를 따르는지 확인할 때 사용됨"
   ]
  },
  {
   "cell_type": "code",
   "execution_count": 30,
   "id": "f691c706",
   "metadata": {},
   "outputs": [
    {
     "name": "stdout",
     "output_type": "stream",
     "text": [
      "-1.3\n"
     ]
    }
   ],
   "source": [
    "from scipy.stats import kurtosis\n",
    "\n",
    "kurtosis_value = kurtosis(data)\n",
    "print(kurtosis_value)"
   ]
  },
  {
   "cell_type": "markdown",
   "id": "b0b25fea",
   "metadata": {},
   "source": [
    "왜도 (Skewness) : 분포의 비대칭성을 측정하는 지표, 데이터가 좌우 어느 방향으로 치우쳐 있는지 측정"
   ]
  },
  {
   "cell_type": "code",
   "execution_count": 31,
   "id": "7d573a0a",
   "metadata": {},
   "outputs": [
    {
     "name": "stdout",
     "output_type": "stream",
     "text": [
      "1.1384199576606167\n"
     ]
    }
   ],
   "source": [
    "from scipy.stats import skew\n",
    "\n",
    "data = [10, 20, 30, 40, 100]  # 오른쪽으로 치우친 데이터\n",
    "skew_value = skew(data)\n",
    "print(skew_value)  # 양수 (오른쪽 꼬리)"
   ]
  },
  {
   "cell_type": "markdown",
   "id": "46df117c",
   "metadata": {
    "vscode": {
     "languageId": "ini"
    }
   },
   "source": [
    "# 기술통계 **특성의 요약**\n",
    "\n",
    "- 연속형 변수: 최소값, 평균, 중위수, 최대값, 4분위수, 표준편차, 히스토그램 등\n",
    "- 범주형 변수: 빈도와 비율, 최빈수, 막대그래프 등"
   ]
  },
  {
   "cell_type": "markdown",
   "id": "ea2290d4",
   "metadata": {},
   "source": [
    "가장 분산이 큰 변수 : petal_length\n",
    "가장 분산이 작은 변수 : sepal_width\n",
    "품종을 분류할 때, petal_length 가 민감하게 작용할 것이다. 식별력이 크다.\n",
    "** IQR의 크기 > 이상치의 허용범위가 크다"
   ]
  },
  {
   "cell_type": "markdown",
   "id": "caaeafff",
   "metadata": {},
   "source": [
    "# 분포의 모양, 형태\n",
    "\n",
    "- 모양이 정규분포인지\n",
    "- 치우쳐져 있는가 / 좌/우, 위/아래\n",
    "- 특이한 패턴이 있는가 / 쌍봉"
   ]
  },
  {
   "cell_type": "markdown",
   "id": "29caccc9",
   "metadata": {},
   "source": [
    "# 빈도분포표"
   ]
  },
  {
   "cell_type": "code",
   "execution_count": 32,
   "id": "168aeae8",
   "metadata": {},
   "outputs": [
    {
     "data": {
      "application/vnd.microsoft.datawrangler.viewer.v0+json": {
       "columns": [
        {
         "name": "index",
         "rawType": "int64",
         "type": "integer"
        },
        {
         "name": "A",
         "rawType": "int64",
         "type": "integer"
        },
        {
         "name": "B",
         "rawType": "int64",
         "type": "integer"
        },
        {
         "name": "C",
         "rawType": "int64",
         "type": "integer"
        },
        {
         "name": "D",
         "rawType": "int64",
         "type": "integer"
        },
        {
         "name": "E",
         "rawType": "int64",
         "type": "integer"
        }
       ],
       "ref": "853a897a-afdb-491c-9d9c-69cc1bdf4e89",
       "rows": [
        [
         "0",
         "47",
         "10",
         "31",
         "25",
         "20"
        ],
        [
         "1",
         "2",
         "11",
         "31",
         "25",
         "21"
        ],
        [
         "2",
         "44",
         "14",
         "15",
         "26",
         "21"
        ],
        [
         "3",
         "41",
         "14",
         "16",
         "26",
         "21"
        ],
        [
         "4",
         "7",
         "30",
         "17",
         "27",
         "24"
        ],
        [
         "5",
         "6",
         "30",
         "16",
         "29",
         "24"
        ],
        [
         "6",
         "35",
         "32",
         "15",
         "29",
         "23"
        ],
        [
         "7",
         "38",
         "33",
         "19",
         "28",
         "20"
        ],
        [
         "8",
         "35",
         "34",
         "18",
         "29",
         "21"
        ],
        [
         "9",
         "36",
         "32",
         "16",
         "27",
         "20"
        ]
       ],
       "shape": {
        "columns": 5,
        "rows": 10
       }
      },
      "text/html": [
       "<div>\n",
       "<style scoped>\n",
       "    .dataframe tbody tr th:only-of-type {\n",
       "        vertical-align: middle;\n",
       "    }\n",
       "\n",
       "    .dataframe tbody tr th {\n",
       "        vertical-align: top;\n",
       "    }\n",
       "\n",
       "    .dataframe thead th {\n",
       "        text-align: right;\n",
       "    }\n",
       "</style>\n",
       "<table border=\"1\" class=\"dataframe\">\n",
       "  <thead>\n",
       "    <tr style=\"text-align: right;\">\n",
       "      <th></th>\n",
       "      <th>A</th>\n",
       "      <th>B</th>\n",
       "      <th>C</th>\n",
       "      <th>D</th>\n",
       "      <th>E</th>\n",
       "    </tr>\n",
       "  </thead>\n",
       "  <tbody>\n",
       "    <tr>\n",
       "      <th>0</th>\n",
       "      <td>47</td>\n",
       "      <td>10</td>\n",
       "      <td>31</td>\n",
       "      <td>25</td>\n",
       "      <td>20</td>\n",
       "    </tr>\n",
       "    <tr>\n",
       "      <th>1</th>\n",
       "      <td>2</td>\n",
       "      <td>11</td>\n",
       "      <td>31</td>\n",
       "      <td>25</td>\n",
       "      <td>21</td>\n",
       "    </tr>\n",
       "    <tr>\n",
       "      <th>2</th>\n",
       "      <td>44</td>\n",
       "      <td>14</td>\n",
       "      <td>15</td>\n",
       "      <td>26</td>\n",
       "      <td>21</td>\n",
       "    </tr>\n",
       "    <tr>\n",
       "      <th>3</th>\n",
       "      <td>41</td>\n",
       "      <td>14</td>\n",
       "      <td>16</td>\n",
       "      <td>26</td>\n",
       "      <td>21</td>\n",
       "    </tr>\n",
       "    <tr>\n",
       "      <th>4</th>\n",
       "      <td>7</td>\n",
       "      <td>30</td>\n",
       "      <td>17</td>\n",
       "      <td>27</td>\n",
       "      <td>24</td>\n",
       "    </tr>\n",
       "    <tr>\n",
       "      <th>5</th>\n",
       "      <td>6</td>\n",
       "      <td>30</td>\n",
       "      <td>16</td>\n",
       "      <td>29</td>\n",
       "      <td>24</td>\n",
       "    </tr>\n",
       "    <tr>\n",
       "      <th>6</th>\n",
       "      <td>35</td>\n",
       "      <td>32</td>\n",
       "      <td>15</td>\n",
       "      <td>29</td>\n",
       "      <td>23</td>\n",
       "    </tr>\n",
       "    <tr>\n",
       "      <th>7</th>\n",
       "      <td>38</td>\n",
       "      <td>33</td>\n",
       "      <td>19</td>\n",
       "      <td>28</td>\n",
       "      <td>20</td>\n",
       "    </tr>\n",
       "    <tr>\n",
       "      <th>8</th>\n",
       "      <td>35</td>\n",
       "      <td>34</td>\n",
       "      <td>18</td>\n",
       "      <td>29</td>\n",
       "      <td>21</td>\n",
       "    </tr>\n",
       "    <tr>\n",
       "      <th>9</th>\n",
       "      <td>36</td>\n",
       "      <td>32</td>\n",
       "      <td>16</td>\n",
       "      <td>27</td>\n",
       "      <td>20</td>\n",
       "    </tr>\n",
       "  </tbody>\n",
       "</table>\n",
       "</div>"
      ],
      "text/plain": [
       "    A   B   C   D   E\n",
       "0  47  10  31  25  20\n",
       "1   2  11  31  25  21\n",
       "2  44  14  15  26  21\n",
       "3  41  14  16  26  21\n",
       "4   7  30  17  27  24\n",
       "5   6  30  16  29  24\n",
       "6  35  32  15  29  23\n",
       "7  38  33  19  28  20\n",
       "8  35  34  18  29  21\n",
       "9  36  32  16  27  20"
      ]
     },
     "execution_count": 32,
     "metadata": {},
     "output_type": "execute_result"
    }
   ],
   "source": [
    "import pandas as pd\n",
    "import numpy as np\n",
    "\n",
    "# 데이터 입력\n",
    "data = [\n",
    "    [47, 10, 31, 25, 20],\n",
    "    [2, 11, 31, 25, 21],\n",
    "    [44, 14, 15, 26, 21],\n",
    "    [41, 14, 16, 26, 21],\n",
    "    [7, 30, 17, 27, 24],\n",
    "    [6, 30, 16, 29, 24],\n",
    "    [35, 32, 15, 29, 23],\n",
    "    [38, 33, 19, 28, 20],\n",
    "    [35, 34, 18, 29, 21],\n",
    "    [36, 32, 16, 27, 20],\n",
    "]\n",
    "\n",
    "# DataFrame으로 변환\n",
    "df = pd.DataFrame(data, columns=['A', 'B', 'C', 'D', 'E'])\n",
    "df"
   ]
  },
  {
   "cell_type": "markdown",
   "id": "f55c21c9",
   "metadata": {},
   "source": [
    "- 각 변수의 분포 형태 : 5개의 변수\n",
    "- 값의 범위, 도수가 많은 구간 (count) 빈도\n",
    "- 이상치 유무"
   ]
  },
  {
   "cell_type": "code",
   "execution_count": 33,
   "id": "7983e722",
   "metadata": {},
   "outputs": [
    {
     "data": {
      "image/png": "[encoded data removed]",
      "text/plain": [
       "<Figure size 640x480 with 1 Axes>"
      ]
     },
     "metadata": {},
     "output_type": "display_data"
    },
    {
     "data": {
      "image/png": "[encoded data removed]",
      "text/plain": [
       "<Figure size 640x480 with 1 Axes>"
      ]
     },
     "metadata": {},
     "output_type": "display_data"
    },
    {
     "data": {
      "image/png": "[encoded data removed]",
      "text/plain": [
       "<Figure size 640x480 with 1 Axes>"
      ]
     },
     "metadata": {},
     "output_type": "display_data"
    },
    {
     "data": {
      "image/png": "[encoded data removed]",
      "text/plain": [
       "<Figure size 640x480 with 1 Axes>"
      ]
     },
     "metadata": {},
     "output_type": "display_data"
    },
    {
     "data": {
      "image/png": "[encoded data removed]",
      "text/plain": [
       "<Figure size 640x480 with 1 Axes>"
      ]
     },
     "metadata": {},
     "output_type": "display_data"
    }
   ],
   "source": [
    "#각 속성별로 히스토그램\n",
    "for col in df.columns:\n",
    "  plt.hist(df[col], bins='sturges')\n",
    "  plt.tight_layout()\n",
    "  plt.show()"
   ]
  },
  {
   "cell_type": "code",
   "execution_count": 34,
   "id": "31dbb8a2",
   "metadata": {},
   "outputs": [
    {
     "name": "stdout",
     "output_type": "stream",
     "text": [
      "[-1.20858977 -1.72253932  0.04612341 -1.44440419 -1.05185185]\n"
     ]
    }
   ],
   "source": [
    "from scipy.stats import kurtosis\n",
    "\n",
    "kurtosis_value = kurtosis(data)\n",
    "print(kurtosis_value)"
   ]
  },
  {
   "cell_type": "markdown",
   "id": "1fe1e7be",
   "metadata": {},
   "source": [
    "#iris data로 첨도의 계산"
   ]
  },
  {
   "cell_type": "code",
   "execution_count": 35,
   "id": "785de602",
   "metadata": {},
   "outputs": [
    {
     "data": {
      "image/png": "[encoded data removed]",
      "text/plain": [
       "<Figure size 640x480 with 1 Axes>"
      ]
     },
     "metadata": {},
     "output_type": "display_data"
    }
   ],
   "source": [
    "numeric_df = vp_df.select_dtypes(include=['float64', 'int'])\n",
    "bins=20\n",
    "for col in numeric_df.columns:\n",
    "  plt.hist(numeric_df[col], bins=bins, alpha=0.5, label=col, density=True)\n",
    "\n",
    "plt.legend()\n",
    "plt.show()\n",
    "  \n",
    "  "
   ]
  },
  {
   "cell_type": "markdown",
   "id": "a7210e4d",
   "metadata": {},
   "source": [
    "양의 첨도 > 3 , 정규분포보다 뾰족하고, 꼬리가 두꺼워서 극단적인 값이 더 많다.\n",
    "음의 첨도 < 3 , 정규분포보다 평평하고, 꼬리가 얇아서, 극단적인 값이 덜 발생한다."
   ]
  },
  {
   "cell_type": "code",
   "execution_count": 36,
   "id": "d5da5049",
   "metadata": {},
   "outputs": [
    {
     "name": "stdout",
     "output_type": "stream",
     "text": [
      "1.1384199576606167\n"
     ]
    }
   ],
   "source": [
    "from scipy.stats import skew\n",
    "\n",
    "data = [10, 20, 30, 40, 100]  # 오른쪽으로 치우친 데이터\n",
    "skew_value = skew(data)\n",
    "print(skew_value)  # 양수 (오른쪽 꼬리)"
   ]
  },
  {
   "cell_type": "markdown",
   "id": "c6e84e62",
   "metadata": {},
   "source": [
    "# 25.07.11 오후수업\n",
    "# 가설검정 단계 "
   ]
  },
  {
   "cell_type": "code",
   "execution_count": 37,
   "id": "009c23d9",
   "metadata": {},
   "outputs": [],
   "source": [
    "import numpy as np\n",
    "import pandas as pd\n",
    "import matplotlib.pyplot as plt\n",
    "import scipy.stats as stats\n",
    "\n",
    "%matplotlib inline\n",
    "plt.rc('figure', figsize=(10, 6))\n",
    "from matplotlib import rcParams\n",
    "rcParams['font.family'] = 'New Gulim'\n",
    "rcParams['font.size'] = 10\n",
    "rcParams['axes.unicode_minus'] = False\n"
   ]
  },
  {
   "cell_type": "markdown",
   "id": "8866e6bb",
   "metadata": {},
   "source": [
    "대한민국 남성의 평균 몸무게는 70킬로 그램이다."
   ]
  },
  {
   "cell_type": "code",
   "execution_count": 39,
   "id": "f345f822",
   "metadata": {},
   "outputs": [
    {
     "name": "stdout",
     "output_type": "stream",
     "text": [
      "평균 : 70.08573280308887\n",
      "p-value : 0.953913826658112\n",
      "검정결과 : 귀무가설채택\n",
      "대한민국 남성의 평균 몸무게는 70kg이다\n"
     ]
    }
   ],
   "source": [
    "#1. 가설수립\n",
    "#H0: 대한민국 남성의 평균 몸무게는 70킬로그램이다(차이가없다)\n",
    "#H1: 대한민국 남성의 평균 몸무게는 70킬로그램이 아니다\n",
    "\n",
    "\n",
    "#2. 통계량 산출 - 데이터 수집\n",
    "\n",
    "np.random.seed(123)\n",
    "weight = np.random.uniform(40, 100, 100)\n",
    "#weight\n",
    "\n",
    "test_result = stats.ttest_1samp(weight, 70)\n",
    "print(f'평균 : {np.mean(weight)}')\n",
    "print(f'p-value : {test_result.pvalue}')\n",
    "\n",
    "#3. 기각/채택 여부 판단\n",
    "print(f'검정결과 : {'귀무가설 기각' if test_result.pvalue<0.05 else '귀무가설채택'}')\n",
    "\n",
    "#4. 결정\n",
    "if test_result.pvalue<0.05:\n",
    "  print('대한민국 남성의 평균 몸무게는 70kg이 아니다.')\n",
    "else :\n",
    "  print('대한민국 남성의 평균 몸무게는 70kg이다')"
   ]
  },
  {
   "cell_type": "code",
   "execution_count": 40,
   "id": "de2d09dd",
   "metadata": {},
   "outputs": [
    {
     "name": "stdout",
     "output_type": "stream",
     "text": [
      "t값 = 7.031, p값 = 0.0000000986\n"
     ]
    }
   ],
   "source": [
    "# 표본 데이터 (30명)\n",
    "coffee_data = [2.9, 2.4, 2.7, 3.0, 2.6, 2.8, 2.9, 3.1, 2.7, 2.6,\n",
    "               2.8, 2.5, 3.2, 3.0, 2.4, 2.6, 2.7, 3.1, 2.8, 2.7,\n",
    "               2.5, 2.9, 2.6, 2.8, 2.9, 2.5, 2.7, 2.8, 3.0, 2.9]\n",
    "\n",
    "# 단일표본 t-검정\n",
    "t_stat, p_value = stats.ttest_1samp(coffee_data, popmean=2.5)\n",
    "\n",
    "print(f\"t값 = {t_stat:.3f}, p값 = {p_value:.10f}\")"
   ]
  },
  {
   "cell_type": "code",
   "execution_count": 41,
   "id": "333b9bc2",
   "metadata": {},
   "outputs": [
    {
     "name": "stdout",
     "output_type": "stream",
     "text": [
      "t값 = 5.331, p값 = 0.0000604698\n"
     ]
    }
   ],
   "source": [
    "group_A = [78, 85, 82, 88, 76, 81, 79, 84, 82, 80]\n",
    "group_B = [72, 75, 78, 74, 71, 77, 70, 76, 75, 73]\n",
    "\n",
    "t_stat, p_value = stats.ttest_ind(group_A, group_B, equal_var=False)\n",
    "print(f\"t값 = {t_stat:.3f}, p값 = {p_value:.10f}\")"
   ]
  },
  {
   "cell_type": "markdown",
   "id": "1d435c6c",
   "metadata": {},
   "source": [
    "H0: group_A"
   ]
  }
 ],
 "metadata": {
  "kernelspec": {
   "display_name": "hipython",
   "language": "python",
   "name": "python3"
  },
  "language_info": {
   "codemirror_mode": {
    "name": "ipython",
    "version": 3
   },
   "file_extension": ".py",
   "mimetype": "text/x-python",
   "name": "python",
   "nbconvert_exporter": "python",
   "pygments_lexer": "ipython3",
   "version": "3.12.9"
  }
 },
 "nbformat": 4,
 "nbformat_minor": 5
}
