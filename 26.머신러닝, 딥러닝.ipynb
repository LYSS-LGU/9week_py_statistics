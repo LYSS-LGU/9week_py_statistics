{
 "cells": [
  {
   "cell_type": "markdown",
   "id": "1a67655f",
   "metadata": {},
   "source": [
    "# 머신러닝\n",
    "25.07.15 오전수업~\n",
    "hipython-minianaconda 인 경우\n",
    "1. [▶] Anaconda Prompt (anaconda3) 실행 후 \n",
    "2. conda activate hipython 입력 \n",
    "3. (base) -> (hipython) C:\\Users\\Admin> base에서 hipython(가상환경) 으로 변경후 \n",
    "아래 명령어로 설치\n",
    "```\n",
    "- pip install scikit-learn\n",
    "- pip install tensorflow\n",
    "```"
   ]
  },
  {
   "cell_type": "markdown",
   "id": "6343768b",
   "metadata": {},
   "source": [
    "# 1. 일반 프로그램 \n",
    "    \n",
    "- 룰 기반"
   ]
  },
  {
   "cell_type": "code",
   "execution_count": null,
   "id": "9b2a5a76",
   "metadata": {},
   "outputs": [
    {
     "name": "stdout",
     "output_type": "stream",
     "text": [
      "52\n"
     ]
    }
   ],
   "source": [
    "def my_function(x):\n",
    "  return 5 * x + 7  #규칙\n",
    "\n",
    "val = int(input('숫자를 입력하세요 : '))\n",
    "ret = my_function(val)\n",
    "print(ret)"
   ]
  },
  {
   "cell_type": "markdown",
   "id": "604ce07d",
   "metadata": {},
   "source": [
    "# 머신 러닝\n",
    "    \n",
    "    - 모델을 지정해 줌\n",
    "    - 입력 값과 결과 값이 명확하지 않을 때 사용"
   ]
  },
  {
   "cell_type": "code",
   "execution_count": null,
   "id": "d2a9473b",
   "metadata": {},
   "outputs": [],
   "source": [
    "import numpy\n",
    "from sklearn import linear_model\n",
    "\n",
    "#1. 데이터, 입력 값과 결과 값\n",
    "#입력 값 - 2차원임\n",
    "X_train = numpy.array([1, 2, 3, 4, 5, 6, 7]).reshape(-1,1)\n",
    "\n",
    "#결과 값 - 정답 1차원임, 입력을 넣었을 나올 정답 (5 * x + 7임을 알아차릴까?)\n",
    "y_train = numpy.array([12, 17, 22, 27, 32, 37, 42])\n",
    "\n",
    "#2. 기계학습의 가장 큰 특징 - 어떤 모델을 사용할 것인가 알려줘야 함\n",
    "model = linear_model.LinearRegression()\n",
    "\n",
    "#3. 학습\n",
    "model.fit(X_train, y_train)\n",
    "\n",
    "#4. 예측\n",
    "predict = model.predict([[9]])\n",
    "\n",
    "#예측한 결과 값\n",
    "print(predict)"
   ]
  },
  {
   "cell_type": "markdown",
   "id": "de1685a7",
   "metadata": {},
   "source": [
    "\n",
    "# 딥러닝\n",
    "\n",
    "모델이 정해져 있다.<br>\n",
    "계층설정 : 입력, 은닉층, 출력<br>\n",
    "모델 생성(계층)<br>\n",
    "모델 설정 : compile<br>\n",
    "모델 학습 (데이터) : fit<br>\n",
    "학습한 모델로 예측 : predict<br>\n",
    "\n",
    "- 모델을 지정하지 않고, 입력 값과 (필요하면 은닉층) 결과 값만 주고 알아서 구하도록 함\n",
    "- 데이터 양이 굉장히 많을 때"
   ]
  },
  {
   "cell_type": "code",
   "execution_count": null,
   "id": "a808b6c4",
   "metadata": {},
   "outputs": [],
   "source": [
    "import tensorflow as tf\n",
    "\n",
    "#1. 데이터 지정\n",
    "X_train = numpy.array([1, 2, 3, 4, 5, 6, 7]).reshape(-1,1)\n",
    "y_train = numpy.array([12, 17, 22, 27, 32, 37, 42])\n",
    "\n",
    "#2. 모델 형태 지정\n",
    "inputs = tf.keras.layers.Input(shape=(1,))  #입력층 입력되는 값이 한 개임(1 dimension)\n",
    "outputs = tf.keras.layers.Dense(units=1)(inputs)  #출력층\n",
    "\n",
    "#모델 객체를 생성(특정 모델이 없음)\n",
    "model = tf.keras.models.Model(inputs, outputs)\n",
    "\n",
    "#loss 손실함수 -> MeanSquaredError, 최적화 함수(성능이 좋아짐) -> SGD\n",
    "model.compile(\n",
    "    loss = tf.keras.losses.MeanSquaredError(),\n",
    "    optimizer = tf.keras.optimizers.SGD()\n",
    ")\n",
    "\n",
    "#3. 모델 학습하기\n",
    "model.fit(X_train, y_train, epochs=1000, verbose=0)\n",
    "\n",
    "#4. 예측 epochs = 100 : '55.xx', 1000:52.xx\n",
    "predict = model.predict(numpy.array([[9]])) #예측값을 numpy 배열 2차원으로 변환\n",
    "\n",
    "#예측한 결과 값\n",
    "print(predict)"
   ]
  },
  {
   "cell_type": "code",
   "execution_count": 8,
   "id": "6dec3924",
   "metadata": {},
   "outputs": [],
   "source": [
    "# 모델 생성 - 계층\n",
    "inputs = tf.keras.layers.Input(shape=(1,))  # 괄호를 (1,) 형태로 수정\n",
    "outputs = tf.keras.layers.Dense(units=1)(inputs)\n"
   ]
  },
  {
   "cell_type": "code",
   "execution_count": 10,
   "id": "24db8d7d",
   "metadata": {},
   "outputs": [],
   "source": [
    "# 모델 설정\n",
    "model.compile(\n",
    "    loss=tf.keras.losses.MeanSquaredError(),\n",
    "    optimizer=tf.keras.optimizers.SGD()\n",
    ")\n"
   ]
  },
  {
   "cell_type": "code",
   "execution_count": 9,
   "id": "58fccb38",
   "metadata": {},
   "outputs": [
    {
     "data": {
      "text/plain": [
       "<keras.src.callbacks.history.History at 0x1b1b15d9640>"
      ]
     },
     "execution_count": 9,
     "metadata": {},
     "output_type": "execute_result"
    }
   ],
   "source": [
    "# 데이터 넣고 학습시키기\n",
    "model.fit(X_train, y_train, epochs=100, verbose=0)"
   ]
  },
  {
   "cell_type": "code",
   "execution_count": null,
   "id": "6abf5ec7",
   "metadata": {},
   "outputs": [
    {
     "name": "stdout",
     "output_type": "stream",
     "text": [
      "\u001b[1m1/1\u001b[0m \u001b[32m━━━━━━━━━━━━━━━━━━━━\u001b[0m\u001b[37m\u001b[0m \u001b[1m0s\u001b[0m 49ms/step\n",
      "🔮 x=9 예측값: 52.06488\n"
     ]
    }
   ],
   "source": [
    "# 5. 예측\n",
    "import numpy as np\n",
    "\n",
    "x_input = np.array([[9]])  # ✅ 2차원 Numpy 배열\n",
    "predict = model.predict(x_input)\n",
    "\n",
    "print(\"🔮 x=9 예측 결과:\", predict[0][0])\n"
   ]
  },
  {
   "cell_type": "markdown",
   "id": "12814a44",
   "metadata": {},
   "source": [
    "## **머신 러닝, 모델 그리고 알고리즘**\n",
    "\n",
    "Machine Learning : 컴퓨터가 데이터를 학습하는 알고리즘과 기술을 통칭\n",
    "\n",
    "**Model : 분류 예측 추정 등의 목적에 부합하는 데이터 처리가 가능한 집합체** \n",
    "\n",
    "Ex) Knn, Linear 모델, Decision Tree, SVM, PCA, NMF, Kmeans, DBSCAN CNN, RNN, GAN, LSTM, GRU\n",
    "\n",
    "**Algorithm: 모델을 최적화하기 위한 학습 방법**\n",
    "\n",
    "Ex) Loss Function and optimization , 최소제곱법(Least Squared), 경사하강법(Gradient Descent)역전파(Backpropagation), 엔트로피 최소화(Entropy)"
   ]
  },
  {
   "cell_type": "markdown",
   "id": "d2b31905",
   "metadata": {},
   "source": [
    "## ***머신 러닝의** 학습 방법\n",
    "\n",
    "### **지도 학습** Supervised Learning\n",
    "\n",
    "데이터에 대한 **레이블(Label)-명시적인 정답-이 주어진 상태**에서 컴퓨터를 학습시키는 방법\n",
    "\n",
    " EX) 엄마가옆에서저동물이개혹은고양이인지알려줄때이루어지는 학습, 암환자 데이터, 붓꽃, 숫자, Startup-Ranking\n",
    "\n",
    "### ***비지도 학습**Unsupervised Learning \n",
    "\n",
    "데이터에 대한 **레이블(Label)-명시적인 정답(출력)-**이 주어지지 않은 상태에서 컴퓨터를 학습시키는 방법\n",
    "\n",
    "**데이터의 숨겨진(Hidden) 특징(Feature)이나 구조를 발견** 한다.   출력이 정해져 있지 않은 상태에서 규칙성을 스스로 찾아 내는 것이 비지도 학습이다.\n",
    "\n",
    "EX) 그 누구도 저 동물이 개 혹은 고양이인지 알려주지 않을 때 이루어지는 학습, SNS텍스트에서 주제를 분류, 고객 분류 및 타겟 마켓팅 등\n",
    "\n",
    "### **강화 학습**Reinforcement Learning  \n",
    "\n",
    "행동 심리학에서 영감을 받았으며, 어떤 환경 안에서 정의된 에이전트가 현재의 상태를 인식하여, **선택 가능한 행동들 중 보상을 최대화하는 행동 혹은 행동 순서를 선택**하는 방법\n",
    "\n",
    "EX) 아이가걷는과정에서의학습"
   ]
  },
  {
   "cell_type": "markdown",
   "id": "7bd28a72",
   "metadata": {},
   "source": [
    "### 머신 러닝 학습 알고리즘의 선택\n",
    "![머신러닝1](images\\머신러닝1.png)"
   ]
  },
  {
   "cell_type": "markdown",
   "id": "72d0ba19",
   "metadata": {},
   "source": [
    "## 인공지능 모델의 대표분야\n",
    "![머신러닝2](images\\머신러닝2.png)"
   ]
  },
  {
   "cell_type": "markdown",
   "id": "8c898ea1",
   "metadata": {},
   "source": [
    "## AI Driven Workflow\n",
    "![머신러닝3](images\\머신러닝3.png)"
   ]
  },
  {
   "cell_type": "markdown",
   "id": "d64d67b5",
   "metadata": {},
   "source": [
    "## MLOps\n",
    "- ML과 Operations의 합성어로 머신러닝 모델을 개발하고 배포하는 전체 과정을 자동화하고 최적화하기 위한 방법론 및 프랙티스입니다.\n",
    "-  데이터 수집부터 모델 학습, 배포, 모니터링까지 AI 시스템의 전체 생명주기를 효율적으로 관리하는 것을 목표로 합니다.\n",
    "- 개발 단계에서 프로덕션 환경으로의 원활한 전환을 가능하게 하여 AI 솔루션의 지속적인 개선과 안정성을 보장합니다.\n",
    "![머신러닝4](images\\머신러닝4.png)"
   ]
  },
  {
   "cell_type": "markdown",
   "id": "06b26c16",
   "metadata": {},
   "source": []
  },
  {
   "cell_type": "markdown",
   "id": "7c98d776",
   "metadata": {},
   "source": []
  }
 ],
 "metadata": {
  "kernelspec": {
   "display_name": "hipython",
   "language": "python",
   "name": "python3"
  },
  "language_info": {
   "codemirror_mode": {
    "name": "ipython",
    "version": 3
   },
   "file_extension": ".py",
   "mimetype": "text/x-python",
   "name": "python",
   "nbconvert_exporter": "python",
   "pygments_lexer": "ipython3",
   "version": "3.12.9"
  }
 },
 "nbformat": 4,
 "nbformat_minor": 5
}
