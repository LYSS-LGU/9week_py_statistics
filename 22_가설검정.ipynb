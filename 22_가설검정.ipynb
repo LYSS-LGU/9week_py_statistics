{
 "cells": [
  {
   "cell_type": "code",
   "execution_count": null,
   "id": "faefb082",
   "metadata": {},
   "outputs": [],
   "source": [
    "import numpy as np\n",
    "import pandas as pd\n",
    "import matplotlib.pyplot as plt\n",
    "import scipy.stats as stats\n",
    "\n",
    "%matplotlib inline\n",
    "plt.rc('figure', figsize=(10, 6))\n",
    "from matplotlib import rcParams\n",
    "rcParams['font.family'] = 'New Gulim'\n",
    "rcParams['font.size'] = 10\n",
    "rcParams['axes.unicode_minus'] = False\n"
   ]
  },
  {
   "cell_type": "markdown",
   "id": "139691d0",
   "metadata": {},
   "source": [
    "# 가설검정 단계 "
   ]
  },
  {
   "cell_type": "markdown",
   "id": "0d112abb",
   "metadata": {},
   "source": [
    "1. 귀무가설/대립가설 수립 \n",
    "    - 귀무가설 H0 : 신규 진통제의 효능이 기존 진통제와 동등하다는 것이다.\n",
    "    - 대립가설 H1 : 신규 진통제가 기존 진통제보다 효능이 우수하다는 것이다.\n",
    "    - 유의수준 결정 : 유의수준 0.05를 채택하는 것이다\n",
    "    (귀무가설이 사실임에도 불구하고 5%의 확률로 이를 기각할 가능성을 허용하는 것이다)\n",
    "    \n",
    "2. 검정 통계량 산출\n",
    "    - 예를 들어, 임상 시험을 통해 두 환자군에 각각 신규 진통제와 기존 진통제를 투여한다\n",
    "    - 각 환자군의 통증 경감 정도를 수치화하여 데이터를 수집한다\n",
    "    - 두 집단 간 평균 통증 경감 수치를 비교하여 검정 통계량(예: t-검정)을 계산한다\n",
    "    \n",
    "3. 기각/채택 판단\n",
    "    - P-value 산출 : 검정 통계량을 기반으로 P-value를 계산한다\n",
    "    - P-value : 귀무가설이 참인 상황에서 관측된 데이터가 발생할 확률 (H0의 신뢰도 지표)\n",
    "    \n",
    "4. 최종 결정\n",
    "    - P-value가 유의수준 0.05 미만이면 귀무가설을 기각한다 → 효과성 인정\n",
    "    - 그렇지 않을 경우 귀무가설을 채택한다 → 효과성 불인정"
   ]
  },
  {
   "cell_type": "markdown",
   "id": "4f62d98b",
   "metadata": {},
   "source": [
    "대한민국 남성의 평균 몸무게는 70킬로 그램이다."
   ]
  },
  {
   "cell_type": "code",
   "execution_count": 7,
   "id": "82c1d8a3",
   "metadata": {},
   "outputs": [
    {
     "name": "stdout",
     "output_type": "stream",
     "text": [
      "평균 : 70.08573280308887\n",
      "p-value : 0.953913826658112\n",
      "검정결과 : 귀무가설채택\n",
      "대한민국 남성의 평균 몸무게는 70kg이다\n"
     ]
    }
   ],
   "source": [
    "#1. 가설수립\n",
    "#H0: 대한민국 남성의 평균 몸무게는 70킬로그램이다(차이가없다)\n",
    "#H1: 대한민국 남성의 평균 몸무게는 70킬로그램이 아니다\n",
    "\n",
    "\n",
    "#2. 통계량 산출 - 데이터 수집\n",
    "\n",
    "np.random.seed(123)\n",
    "weight = np.random.uniform(40, 100, 100)\n",
    "#weight\n",
    "\n",
    "test_result = stats.ttest_1samp(weight, 70)\n",
    "print(f'평균 : {np.mean(weight)}')\n",
    "print(f'p-value : {test_result.pvalue}')\n",
    "\n",
    "#3. 기각/채택 여부 판단\n",
    "print(f'검정결과 : {'귀무가설 기각' if test_result.pvalue<0.05 else '귀무가설채택'}')\n",
    "\n",
    "#4. 결정\n",
    "if test_result.pvalue<0.05:\n",
    "  print('대한민국 남성의 평균 몸무게는 70kg이 아니다.')\n",
    "else :\n",
    "  print('대한민국 남성의 평균 몸무게는 70kg이다')"
   ]
  },
  {
   "cell_type": "markdown",
   "id": "dfdac19e",
   "metadata": {},
   "source": [
    "# 단일표본 t-검정\n",
    "\n",
    "하나의 모집단의 평균 값을 특정 값과 비교하는 경우"
   ]
  },
  {
   "cell_type": "code",
   "execution_count": null,
   "id": "f3edacf1",
   "metadata": {},
   "outputs": [],
   "source": [
    "# 표본 데이터 (30명)\n",
    "coffee_data = [2.9, 2.4, 2.7, 3.0, 2.6, 2.8, 2.9, 3.1, 2.7, 2.6,\n",
    "               2.8, 2.5, 3.2, 3.0, 2.4, 2.6, 2.7, 3.1, 2.8, 2.7,\n",
    "               2.5, 2.9, 2.6, 2.8, 2.9, 2.5, 2.7, 2.8, 3.0, 2.9]\n",
    "\n",
    "# 단일표본 t-검정\n",
    "t_stat, p_value = stats.ttest_1samp(coffee_data, popmean=2.5)\n",
    "\n",
    "print(f\"t값 = {t_stat:.3f}, p값 = {p_value:.10f}\")"
   ]
  },
  {
   "cell_type": "markdown",
   "id": "bafba02c",
   "metadata": {},
   "source": [
    "t값=7.031은 표본과 모집단 평균 간 차이가 표준오차의 7배라는 통계량\n",
    "-> 표본의 평균이 모집단 평균 2.5에서 7*표준오차 만큼 떨어져 있다 -> 매우 큰 차이를 보인다.\n",
    "\n",
    "이 통계량은 p-value<0.05 이므로 통계적으로 유의한 차이가 있다고 할 수 있습니다. "
   ]
  },
  {
   "cell_type": "code",
   "execution_count": null,
   "id": "334d9c73",
   "metadata": {},
   "outputs": [],
   "source": [
    "group_A = [78, 85, 82, 88, 76, 81, 79, 84, 82, 80]\n",
    "group_B = [72, 75, 78, 74, 71, 77, 70, 76, 75, 73]\n",
    "\n",
    "t_stat, p_value = stats.ttest_ind(group_A, group_B, equal_var=False)\n",
    "print(f\"t값 = {t_stat:.3f}, p값 = {p_value:.10f}\")"
   ]
  },
  {
   "cell_type": "markdown",
   "id": "b765018e",
   "metadata": {},
   "source": [
    "H0: group_A"
   ]
  },
  {
   "cell_type": "markdown",
   "id": "6fcc64c1",
   "metadata": {},
   "source": [
    "## 통계적 오류\n",
    "\n",
    "- 제1종 오류\n",
    "> 귀무가설이 실제로 참임에도 불구하고 이를 기각하는 오류이다. 이는 무고한 사람을 유죄로 판결하는 사법적 오류에 상응한다. 일반적으로 연구자들은 이 확률을 관리한다.\n",
    "\n",
    "- 제2종 오류\n",
    "> 귀무가설이 실제로 거짓임에도 불구하고 이를 채택하는 오류이다. 이는 실제 유죄인 사람을 무죄로 판결하는 사법적 오류에 상응한다.\n",
    "\n",
    "| 정확한사실 \\ 가설검정결과 | H0가 사실이라고 판정 | H0가 사실이 아니라고 판정 |\n",
    "| --- | --- | --- |\n",
    "| H0가 사실임 | 옳은 결정 | 제 1종 오류(ɑ) |\n",
    "| H0가 사실이 아님 | 제 2종 오류(β) | 옳은 결정 |\n",
    "\n",
    "유의 수준**(α)**는 귀무가설이 진실일 때 발생할 수 있는 모든 표본결과 중에서 너무 드물게 발생하는 결과이기 때문에 오류를 감수하면서 귀무가설을 기각하려는 최대 비율이다.\n",
    "\n",
    "- 일반적으로는 **1% 혹은 5%**로 정한다.\n",
    "\n",
    "- 유의 확률 = p-value (p-값) \n",
    "\n",
    "귀무가설이 참일 때 현재 관찰된 결과나 더 극단적인 결과를 얻을 확률을 나타내는 값이다. \n",
    "\n",
    "이 값은 통계적 유의성을 판단하는 핵심 지표로 사용된다. \n",
    "\n",
    "일반적으로 p-값이 낮을수록 귀무가설을 기각할 더 강한 증거가 된다.\n",
    ">가설검정에서는 p-값이 유의수준, 즉 통상적으로 5% 보다 낮으면 귀무가설을 기각"
   ]
  },
  {
   "cell_type": "markdown",
   "id": "cf6700f6",
   "metadata": {},
   "source": [
    "![통계적 오류](images/통계적오류.png)\n"
   ]
  },
  {
   "cell_type": "markdown",
   "id": "909424a8",
   "metadata": {},
   "source": [
    "Q1) 귀무가설은? H0: μ = 70kg (대한민국 남성의 평균 몸무게는 70kg이다)\n",
    "\n",
    "Q2) 대립가설은? H1: μ ≠ 70kg (대한민국 남성의 평균 몸무게는 70kg이 아니다)\n",
    "\n",
    "Q3) 검정 결과는 귀무가설 또는 대립가설 채택인가? \n",
    "\n",
    "코드 실행 결과에 따라 p-value가 0.05보다 작으면 귀무가설 기각(대립가설 채택), 크면 귀무가설 채택"
   ]
  },
  {
   "cell_type": "markdown",
   "id": "1f719fdd",
   "metadata": {},
   "source": [
    "## **양측검정(two-tailed test)과 단측검정(one-tailed test)**\n",
    "\n",
    "양측검정은 귀무가설에 대한 대립가설이 양쪽 방향 모두를 고려하는 검정 방법이다. \n",
    "\n",
    "예를 들어, 모평균이 특정 값과 \"다르다\"는 가설을 검정할 때 사용한다. \n",
    "\n",
    "반면, 단측검정은 한쪽 방향만 고려하는 검정으로, 모평균이 특정 값보다 \"크다\" 또는 \"작다\"와 같은 방향성이 있는 가설을 검정할 때 사용한다.\n",
    "\n",
    "![양측검정_단측검정](images\\양측검정_단측검정.png)\n"
   ]
  },
  {
   "cell_type": "markdown",
   "id": "6047fd94",
   "metadata": {},
   "source": [
    "- **콜라 캔의 용량 시비: 어떤 대립가설을 세울 것인가?**\n",
    "    \n",
    "    \n",
    "    | 사례1 | 사례2 | 사례3 |\n",
    "    | --- | --- | --- |\n",
    "    | H0: μ = 350cc | H0: μ = 350cc | H0: μ = 350cc |\n",
    "    | H1: μ ≠ 350cc | H1: μ < 350cc | H1: μ > 350cc |\n",
    "\n",
    "    >가설검정 방법을 선택할 때는 연구 목적과 가설의 방향성을 고려해야 한다. "
   ]
  },
  {
   "cell_type": "markdown",
   "id": "f04d0b55",
   "metadata": {},
   "source": [
    "# 두 모집단의 특성 비교\n",
    "\n",
    "→ 집단 간 평균(μ), 비율(π), 분산(σ²) 비교를 통해 통계적으로 유의미한 차이가 있는지 검정한다. \n",
    "\n",
    "| 비교 항목 | 데이터 유형 | 검정 목적 | 검정 방법 | 예시 |\n",
    "| --- | --- | --- | --- | --- |\n",
    "| **평균 비교** | 수치형 | 두 집단 평균 차이 | ✅ **이표본 t-검정** (독립표본 t-test) | 남/여 평균 키 비교 |\n",
    "| **비율 비교** | 범주형 | 비율(확률) 차이 비교 | ✅ **두 집단 비율 검정** (Z-test for proportions) | 남/여 흡연율 비교 |\n",
    "| **분산 비교** | 수치형 | 두 집단 분산 차이 | ✅ **F-검정** (F-test for variances) | 남/여 수학 점수의 변동성 비교 |\n",
    "| **분포 비교** | 수치형\n",
    "/범주형 | 전체 분포 형태 비교 | ✅ **KS검정 / Mann-Whitney U 검정** | 두 그룹의 소득 분포 차이 |\n",
    "| **범주형 변수 간 연관성** | 범주형 | 독립성/연관성 검정 | ✅ **카이제곱 검정** (Chi-squared test) | 성별과 고객 구매 여부의 관련성 |\n",
    "\n",
    "## T 검정\n",
    "\n",
    "주로 소규모 표본에서 두 모집단의 평균을 비교하는 통계적 방법이다. \n",
    "\n",
    "정규분포를 따르거나 중심극한정리에 의해 근사적으로 정규분포를 따를 것으로 가정되는 경우에 적용된다. \n",
    "\n",
    "- 일표본 T 검정 : 하나의 모집단의 평균 값을 특정 값과 비교하는 경우\n",
    "- 이표본 T 검정 : 두 개의 모집단의 평균 비교\n",
    "- 대응 표본 T 검정 : 동일한 대상에 두가지 관측치가 있는 경우 (ex 혈압약 먹기 전후 혈압 측정)\n",
    "\n",
    "- 분산분석 : 세 개 이상의 모집단이 있을 경우, 여러 집단 사이의 평균을 비교하는 검정"
   ]
  },
  {
   "cell_type": "markdown",
   "id": "0e72f624",
   "metadata": {},
   "source": [
    "### 예제 1: 평균 비교 - 일표본(단표본) t검정\n",
    "\n",
    "**문제:** 하루 커피 섭취량이 평균 2.5잔이라고 알려져 있다. 실제 설문조사에서 2.8잔이 나왔다. 과연 차이가 통계적으로 유의한가?"
   ]
  },
  {
   "cell_type": "code",
   "execution_count": 2,
   "id": "7be17729",
   "metadata": {},
   "outputs": [
    {
     "name": "stdout",
     "output_type": "stream",
     "text": [
      "t값 = 7.031, p값 = 0.000\n"
     ]
    }
   ],
   "source": [
    "# 📁 C:\\githome\\9week_py_statistics\\25.07.14_ttest_example.ipynb\n",
    "\n",
    "from scipy import stats\n",
    "\n",
    "# 표본 데이터 (30명)\n",
    "coffee_data = [\n",
    "    2.9, 2.4, 2.7, 3.0, 2.6, 2.8, 2.9, 3.1, 2.7, 2.6,\n",
    "    2.8, 2.5, 3.2, 3.0, 2.4, 2.6, 2.7, 3.1, 2.8, 2.7,\n",
    "    2.5, 2.9, 2.6, 2.8, 2.9, 2.5, 2.7, 2.8, 3.0, 2.9\n",
    "]\n",
    "\n",
    "# 단일표본 t-검정 (모평균이 2.5라고 가정)\n",
    "t_stat, p_value = stats.ttest_1samp(coffee_data, popmean=2.5)\n",
    "\n",
    "print(f\"t값 = {t_stat:.3f}, p값 = {p_value:.3f}\")\n"
   ]
  },
  {
   "cell_type": "markdown",
   "id": "83634220",
   "metadata": {},
   "source": [
    "해석: p값이 0.05보다 작으면 귀무가설 기각 → 2.5잔과 유의한 차이가 있다."
   ]
  },
  {
   "cell_type": "markdown",
   "id": "fbc5dcab",
   "metadata": {},
   "source": [
    "### 예제 2: 두 그룹 비교 - 이표본(독립표본) t검정\n",
    "\n",
    "**문제:** A와 B 수업의 시험 평균 점수가 차이가 있는가?"
   ]
  },
  {
   "cell_type": "code",
   "execution_count": 3,
   "id": "8321ef28",
   "metadata": {},
   "outputs": [
    {
     "name": "stdout",
     "output_type": "stream",
     "text": [
      "t값 = 5.331, p값 = 0.000\n"
     ]
    }
   ],
   "source": [
    "group_A = [78, 85, 82, 88, 76, 81, 79, 84, 82, 80]\n",
    "group_B = [72, 75, 78, 74, 71, 77, 70, 76, 75, 73]\n",
    "\n",
    "t_stat, p_value = stats.ttest_ind(group_A, group_B, equal_var=False)\n",
    "print(f\"t값 = {t_stat:.3f}, p값 = {p_value:.3f}\")"
   ]
  },
  {
   "cell_type": "markdown",
   "id": "b9bbb5bf",
   "metadata": {},
   "source": [
    "해석: p < 0.05 → 수업 간 유의한 점수 차이가 있음"
   ]
  },
  {
   "cell_type": "markdown",
   "id": "8e748fc3",
   "metadata": {},
   "source": [
    "### 예제 3: 전후의 비교 -  대응 표본 T 검정 "
   ]
  },
  {
   "cell_type": "code",
   "execution_count": 4,
   "id": "66df6648",
   "metadata": {},
   "outputs": [
    {
     "name": "stdout",
     "output_type": "stream",
     "text": [
      "t값 = 25.327, p값 = 0.000\n"
     ]
    }
   ],
   "source": [
    "# 대응 표본 t-검정 예제: 약물 투여 전후 혈압 비교\n",
    "before = [120, 122, 143, 130, 135, 118, 127, 140, 132, 125]\n",
    "after = [115, 117, 138, 125, 129, 112, 120, 135, 126, 119]\n",
    "\n",
    "t_stat, p_value = stats.ttest_rel(before, after)\n",
    "print(f\"t값 = {t_stat:.3f}, p값 = {p_value:.3f}\")"
   ]
  },
  {
   "cell_type": "markdown",
   "id": "e59f3469",
   "metadata": {},
   "source": [
    "해석: p값이 0.05보다 작으면 약물 투여 전후 혈압에 유의한 차이가 있다고 판단한다."
   ]
  },
  {
   "cell_type": "markdown",
   "id": "f289c824",
   "metadata": {},
   "source": [
    "### 예제 4: 범주형 변수 - 카이제곱 검정\n",
    "\n",
    "**문제:** 성별에 따라 커피를 더 선호하는지?"
   ]
  },
  {
   "cell_type": "code",
   "execution_count": 5,
   "id": "ef32032f",
   "metadata": {},
   "outputs": [
    {
     "name": "stdout",
     "output_type": "stream",
     "text": [
      "chi2 = 3.857, p값 = 0.050\n"
     ]
    }
   ],
   "source": [
    "import numpy as np\n",
    "obs = np.array([[40, 10],  # 남자 (좋아함, 안좋아함) 교차표\n",
    "                [30, 20]]) # 여자\n",
    "\n",
    "chi2, p, dof, expected = stats.chi2_contingency(obs)\n",
    "print(f\"chi2 = {chi2:.3f}, p값 = {p:.3f}\")"
   ]
  },
  {
   "cell_type": "markdown",
   "id": "4baaa413",
   "metadata": {},
   "source": [
    "해석: p < 0.05이면 성별과 커피 선호가 독립이 아님 → 연관 있음"
   ]
  },
  {
   "cell_type": "markdown",
   "id": "4bd3e94f",
   "metadata": {},
   "source": [
    "## ANOVA (ANalysis Of VAriance)\n",
    "\n",
    "분산분석(ANOVA)은 여러 집단 간의 평균 차이를 검정하기 위해 집단 내 분산과 집단 간 분산을 비교하는 통계적 방법론이다. 이 방법은 두 개 이상의 집단에서 관측된 데이터의 변동성을 체계적으로 분석하여 집단 간 차이가 우연에 의한 것인지 아니면 실제 효과에 의한 것인지를 판단하는 데 활용된다.\n",
    "\n",
    "- **F-검정(F-test)**은 **\"두 개 이상의 모집단의 분산을 비교하거나\"** , 또는 **\"분산의 비율을 활용해 평균 차이를 검정\"**하는 데 사용\n",
    "- **ANOVA(분산분석)** 의 핵심 통계량이 바로 **F-값**이기 때문에, ANOVA도 F-검정\n",
    "    1. One-way ANOVA (일원배치분산분석) : 하나의 요인에서 3개 이상의 그룹 간 유의한 차이가 있는지 검정\n",
    "    2. Repeated Measures ANOVA (반복측정 분산분석) : 하나의 요인에서 동일한 대상을 2번 이상 반복측정한 결과에 유의미한 차이가 있는지 검정 \n",
    "    3. Two-way ANOVA (이원배치 분산분석) : 두 개의 요인이 미치는 영향을 동시에 분석하는 경우 사용\n",
    "    4. Two-way Repeated Measures ANOVA (이원 반복측정 분산분석) : 두 개의 요인에서 동일한 대상을 2번 이상 반복측정한 결과에 유의미한 차이가 있는지 검정"
   ]
  },
  {
   "cell_type": "code",
   "execution_count": 6,
   "id": "e030dcf1",
   "metadata": {},
   "outputs": [
    {
     "name": "stdout",
     "output_type": "stream",
     "text": [
      "F값: 24.28, p값: 0.0013\n"
     ]
    }
   ],
   "source": [
    "from scipy.stats import f_oneway\n",
    "\n",
    "# 세 그룹의 점수\n",
    "group1 = [80, 85, 90]\n",
    "group2 = [70, 75, 78]\n",
    "group3 = [60, 65, 62]\n",
    "\n",
    "f_stat, p_value = f_oneway(group1, group2, group3)\n",
    "print(f\"F값: {f_stat:.2f}, p값: {p_value:.4f}\")"
   ]
  },
  {
   "cell_type": "markdown",
   "id": "bcd8a9f5",
   "metadata": {},
   "source": [
    "### 사후 검정\n",
    "\n",
    "분산분석 후 구체적으로 어떤 그룹 간에 유의한 차이가 있는지 확인하는 과정\n",
    "\n",
    "분산분석에서는 그룹 간 차이가 존재한다는 것만 알려주지만 구체적으로 어떤 그룹들 사이에서 유의미한 차이가 나타나는지는 알려주지 않기 때문에 사후 검정이 필요하다.\n",
    "\n",
    "이 과정을 통해 연구자는 특정 그룹들 간의 개별적인 비교를 수행하여 더 상세한 분석 결과를 얻을 수 있다.\n",
    "\n",
    "- Duncan 검정: 모든 가능한 그룹 쌍을 비교하는 방법으로, 다른 사후 검정 방법에 비해 비교적 관대한 기준을 적용하여 그룹 간 차이를 더 쉽게 발견할 수 있다. 그러나 이로 인해 제1종 오류 발생 가능성이 상대적으로 높아질 수 있다.\n",
    "- Tukey 검정: 그룹 간 평균 차이를 비교하며 제1종 오류를 효과적으로 통제하는 방법으로, 모든 가능한 그룹 쌍 비교에서 전체 오류율을 지정된 유의수준(α) 이하로 유지하도록 설계되었다. 이 방법은 특히 표본 크기가 동일한 경우에 많이 사용된다.\n",
    "\n",
    "# 요약\n",
    "\n",
    "- 귀무가설(𝑯𝟎)은 일반적으로 인정되는 모수에 관한 기존 관점 또는 기준이 되는 가설이다.\n",
    "- 대립가설(𝑯𝟏)은 연구자가 통계적 증거를 통해 입증하고자 하는 대안적 주장이다.\n",
    "- 유의수준(𝜶)은 가설검정 과정에서 의사결정 시 제1종 오류가 발생할 수 있는 최대 허용 확률을 나타낸다.\n",
    "- 유의확률(p-value)은 관측된 데이터의 검정통계량이 귀무가설과 부합하는 정도를 확률값으로 객관화한 지표이다."
   ]
  },
  {
   "cell_type": "markdown",
   "id": "213c35e1",
   "metadata": {},
   "source": []
  }
 ],
 "metadata": {
  "kernelspec": {
   "display_name": "hipython",
   "language": "python",
   "name": "python3"
  },
  "language_info": {
   "codemirror_mode": {
    "name": "ipython",
    "version": 3
   },
   "file_extension": ".py",
   "mimetype": "text/x-python",
   "name": "python",
   "nbconvert_exporter": "python",
   "pygments_lexer": "ipython3",
   "version": "3.12.9"
  }
 },
 "nbformat": 4,
 "nbformat_minor": 5
}
