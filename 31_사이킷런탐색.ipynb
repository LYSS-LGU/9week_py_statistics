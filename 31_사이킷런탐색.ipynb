{
 "cells": [
  {
   "cell_type": "markdown",
   "id": "1a8060ab",
   "metadata": {},
   "source": [
    "# 사이킷런 라이브러리\n",
    "25.07.16 오전수업\n",
    "\n",
    "```\n",
    "conda create -n hi_ml_env python=3.10\n",
    "conda activate hi_ml_env\n",
    "conda config --add channels conda-forge\n",
    "conda config --set channel_priority strict\n",
    "conda config --show channels\n",
    "\n",
    "conda install -c conda-forge numpy pandas scikit-learn=1.4.2 xgboost=1.6.2 lightgbm=3.3.2 imbalanced-learn=0.11 jupyter matplotlib seaborn hyperopt=0.2.7\n",
    "\n",
    "```"
   ]
  },
  {
   "cell_type": "code",
   "execution_count": null,
   "id": "0b766d81",
   "metadata": {},
   "outputs": [],
   "source": [
    "from sklearn.datasets import load_diabetes\n",
    "load_diabetes = load_diabetes()\n",
    "load_diabetes.keys()"
   ]
  },
  {
   "cell_type": "code",
   "execution_count": null,
   "id": "ecd417ca",
   "metadata": {},
   "outputs": [],
   "source": [
    "load_diabetes"
   ]
  },
  {
   "cell_type": "code",
   "execution_count": null,
   "id": "fdb88e30",
   "metadata": {},
   "outputs": [],
   "source": [
    "import pandas as pd"
   ]
  },
  {
   "cell_type": "code",
   "execution_count": null,
   "id": "98a70211",
   "metadata": {},
   "outputs": [],
   "source": [
    "df = pd.DataFrame(data = load_diabetes.data, \n",
    "                  columns = load_diabetes.feature_names)\n",
    "df.head()"
   ]
  },
  {
   "cell_type": "markdown",
   "id": "553db3a2",
   "metadata": {},
   "source": [
    "# 머신러닝 프로세스\n",
    "1. 데이터 수집\n",
    "2. 데이터 전처리\n",
    "3. 데이터 탐색\n",
    "\n",
    "4. 모델 선택\n",
    "5. 모델 학습\n",
    "6. 모델 평가\n",
    "7. 모델 개선\n",
    "8. 모델 배포"
   ]
  },
  {
   "cell_type": "markdown",
   "id": "53fa0467",
   "metadata": {},
   "source": [
    "## 데이터수집"
   ]
  },
  {
   "cell_type": "code",
   "execution_count": null,
   "id": "ff60a120",
   "metadata": {},
   "outputs": [],
   "source": [
    "from sklearn.datasets import load_iris\n",
    "load_iris = load_iris()\n",
    "iris_data = load_iris.data\n",
    "iris_data  #X"
   ]
  },
  {
   "cell_type": "code",
   "execution_count": null,
   "id": "15ce21ff",
   "metadata": {},
   "outputs": [],
   "source": [
    "load_iris.target_names, load_iris.feature_names"
   ]
  },
  {
   "cell_type": "code",
   "execution_count": null,
   "id": "3b93335d",
   "metadata": {},
   "outputs": [],
   "source": [
    "iris_label = load_iris.target #y\n",
    "iris_label"
   ]
  },
  {
   "cell_type": "markdown",
   "id": "c33d34b9",
   "metadata": {},
   "source": [
    "## 데이터분할"
   ]
  },
  {
   "cell_type": "code",
   "execution_count": null,
   "id": "3aa98886",
   "metadata": {},
   "outputs": [],
   "source": [
    "from sklearn.model_selection import train_test_split\n",
    "X_train, X_test, y_train, y_test = train_test_split(iris_data, iris_label, test_size=0.2, random_state=42)\n"
   ]
  },
  {
   "cell_type": "markdown",
   "id": "47f7987f",
   "metadata": {},
   "source": [
    "## 모델 생성"
   ]
  },
  {
   "cell_type": "code",
   "execution_count": null,
   "id": "b4d1a830",
   "metadata": {},
   "outputs": [],
   "source": [
    "from sklearn.tree import DecisionTreeClassifier\n",
    "dt_clf = DecisionTreeClassifier()\n",
    "dt_clf"
   ]
  },
  {
   "cell_type": "markdown",
   "id": "3c8b5bb3",
   "metadata": {},
   "source": [
    "## 모델 학습"
   ]
  },
  {
   "cell_type": "code",
   "execution_count": null,
   "id": "e94a2f67",
   "metadata": {},
   "outputs": [],
   "source": [
    "# 모델 학습\n",
    "dt_clf.fit(X_train, y_train)"
   ]
  },
  {
   "cell_type": "markdown",
   "id": "e6afac64",
   "metadata": {},
   "source": [
    "## 모델 예측"
   ]
  },
  {
   "cell_type": "code",
   "execution_count": null,
   "id": "da4327b3",
   "metadata": {},
   "outputs": [],
   "source": [
    "pred = dt_clf.predict(X_test)\n",
    "pred"
   ]
  },
  {
   "cell_type": "markdown",
   "id": "41a62ddb",
   "metadata": {},
   "source": [
    "## 평가"
   ]
  },
  {
   "cell_type": "code",
   "execution_count": null,
   "id": "8532d5f5",
   "metadata": {},
   "outputs": [],
   "source": [
    "from sklearn.metrics import accuracy_score\n",
    "accuracy_score(y_test, pred)"
   ]
  },
  {
   "cell_type": "markdown",
   "id": "77e779d2",
   "metadata": {},
   "source": [
    "# 의사결정 나무 시각화"
   ]
  },
  {
   "cell_type": "code",
   "execution_count": null,
   "id": "50a2f4b5",
   "metadata": {},
   "outputs": [],
   "source": [
    "import graphviz\n",
    "from sklearn.tree import export_graphviz"
   ]
  },
  {
   "cell_type": "code",
   "execution_count": null,
   "id": "a037dc70",
   "metadata": {},
   "outputs": [],
   "source": [
    "export_graphviz(dt_clf, out_file=\"tree.dot\", \n",
    "                class_names=load_iris.target_names,)\n",
    "with open(\"tree.dot\") as f:\n",
    "    dot_graph = f.read()\n",
    "graphviz.Source(dot_graph)"
   ]
  },
  {
   "cell_type": "markdown",
   "id": "298f07c2",
   "metadata": {},
   "source": [
    "# 교차검증"
   ]
  },
  {
   "cell_type": "code",
   "execution_count": null,
   "id": "87eda3bb",
   "metadata": {},
   "outputs": [],
   "source": [
    "from sklearn.model_selection import KFold\n",
    "kfold = KFold(n_splits=5)\n",
    "iris_clf = DecisionTreeClassifier(random_state=156)\n",
    "iris_data, iris_label"
   ]
  },
  {
   "cell_type": "code",
   "execution_count": null,
   "id": "33907bd6",
   "metadata": {},
   "outputs": [],
   "source": [
    "for train_index, test_index in kfold.split(iris_data):\n",
    "    X_train, X_test = iris_data[train_index], iris_data[test_index]\n",
    "    y_train, y_test = iris_label[train_index], iris_label[test_index]\n",
    "    \n",
    "    iris_clf.fit(X_train, y_train)\n",
    "    pred = iris_clf.predict(X_test)\n",
    "    accuracy = accuracy_score(y_test, pred)\n",
    "    print(f\"Accuracy: {accuracy:.4f}\")"
   ]
  },
  {
   "cell_type": "markdown",
   "id": "3d9e3c96",
   "metadata": {},
   "source": [
    "# stratified split"
   ]
  },
  {
   "cell_type": "code",
   "execution_count": null,
   "id": "6253081b",
   "metadata": {},
   "outputs": [],
   "source": [
    "from sklearn.datasets import load_iris\n",
    "iris = load_iris()\n",
    "iris_df = pd.DataFrame(data = iris.data, columns=iris.feature_names )\n",
    "iris_df['label']  = iris.target\n",
    "iris_df['label'].value_counts()"
   ]
  },
  {
   "cell_type": "code",
   "execution_count": null,
   "id": "e038c4c6",
   "metadata": {},
   "outputs": [],
   "source": [
    "from sklearn.model_selection import StratifiedKFold\n",
    "skf = StratifiedKFold(n_splits=5)\n",
    "for train_index, test_index in skf.split(iris_df, iris_df['label']):\n",
    "  y_train = iris_df['label'].iloc[train_index]\n",
    "  y_test =  iris_df['label'].iloc[test_index]\n",
    "  print(f'train 분포: {y_train.value_counts()}')\n",
    "  print(f'test 분포: {y_test.value_counts()}')"
   ]
  },
  {
   "cell_type": "code",
   "execution_count": null,
   "id": "4251e8ab",
   "metadata": {},
   "outputs": [],
   "source": [
    "from sklearn.model_selection import StratifiedKFold\n",
    "skf = StratifiedKFold(n_splits=5)\n",
    "\n",
    "for train_index, test_index in skf.split(iris_df, iris_df['label']):\n",
    "  train_data = iris_df.iloc[train_index]\n",
    "  test_data = iris_df.iloc[test_index]\n",
    "  \n",
    "  X_train = train_data[iris.feature_names]\n",
    "  X_test = test_data[iris.feature_names]\n",
    "  \n",
    "  y_train = train_data['label']\n",
    "  y_test =  test_data['label']\n",
    "  \n",
    "  model = DecisionTreeClassifier(random_state=156)\n",
    "  model.fit(X_train, y_train)\n",
    "  pred = model.predict(X_test)\n",
    "  acc = accuracy_score(y_test, pred)\n",
    "  print(f'acc : {acc}')  "
   ]
  },
  {
   "cell_type": "markdown",
   "id": "b3e55ff2",
   "metadata": {},
   "source": [
    "# cross_val_score()의 적용"
   ]
  },
  {
   "cell_type": "code",
   "execution_count": null,
   "id": "0eda7066",
   "metadata": {},
   "outputs": [],
   "source": [
    "from sklearn.model_selection import cross_val_score, cross_validate"
   ]
  },
  {
   "cell_type": "code",
   "execution_count": null,
   "id": "4e3bca8d",
   "metadata": {},
   "outputs": [],
   "source": [
    "X = iris.data\n",
    "y = iris.target\n",
    "\n",
    "model = DecisionTreeClassifier(random_state=156)\n",
    "cross_val_score(model,X,y,cv=5, scoring='accuracy' )"
   ]
  },
  {
   "cell_type": "code",
   "execution_count": null,
   "id": "f8ea1ace",
   "metadata": {},
   "outputs": [],
   "source": [
    "skf = StratifiedKFold(n_splits=5)\n",
    "cross_val_score(model,X,y,cv=skf, scoring='accuracy')"
   ]
  },
  {
   "cell_type": "code",
   "execution_count": null,
   "id": "d04ee250",
   "metadata": {},
   "outputs": [],
   "source": [
    "results = cross_validate(model, X,y, cv=skf, scoring='accuracy')\n",
    "results['test_score']"
   ]
  },
  {
   "cell_type": "markdown",
   "id": "dd93f398",
   "metadata": {},
   "source": [
    "# GridSearchCV - 하이퍼파라미터 + 교차검증"
   ]
  },
  {
   "cell_type": "code",
   "execution_count": null,
   "id": "530ab6d5",
   "metadata": {},
   "outputs": [],
   "source": [
    "X_train, X_test, y_train, y_test = train_test_split(iris_data, \n",
    "                                                  iris_label,\n",
    "                                                  test_size=0.2,\n",
    "                                                  random_state=121)"
   ]
  },
  {
   "cell_type": "code",
   "execution_count": null,
   "id": "4b99abe0",
   "metadata": {},
   "outputs": [],
   "source": [
    "from sklearn.model_selection import GridSearchCV\n",
    "dt_clf2 = DecisionTreeClassifier(random_state=121)\n",
    "params = {'max_depth':[1,2,3], 'min_samples_split':[2,3]}\n",
    "grid_dtree = GridSearchCV(dt_clf2, param_grid=params, cv=3, refit=True)\n",
    "grid_dtree.fit(X_train, y_train)"
   ]
  },
  {
   "cell_type": "code",
   "execution_count": null,
   "id": "b25f7c17",
   "metadata": {},
   "outputs": [],
   "source": [
    "pd.DataFrame(grid_dtree.cv_results_)"
   ]
  },
  {
   "cell_type": "code",
   "execution_count": null,
   "id": "9314d41d",
   "metadata": {},
   "outputs": [],
   "source": [
    "b_model = grid_dtree.best_estimator_\n",
    "pred = b_model.predict(X_test)\n",
    "accuracy_score(y_test, pred)"
   ]
  },
  {
   "cell_type": "code",
   "execution_count": null,
   "id": "efd7b044",
   "metadata": {},
   "outputs": [],
   "source": [
    "grid_dtree.best_params_"
   ]
  },
  {
   "cell_type": "markdown",
   "id": "78e74613",
   "metadata": {},
   "source": [
    "# 의사결정 나무 시각화"
   ]
  },
  {
   "cell_type": "code",
   "execution_count": null,
   "id": "cffce7be",
   "metadata": {},
   "outputs": [],
   "source": [
    "import graphviz\n",
    "from sklearn.tree import export_graphviz"
   ]
  },
  {
   "cell_type": "code",
   "execution_count": null,
   "id": "adfdb8a7",
   "metadata": {},
   "outputs": [],
   "source": [
    "export_graphviz(dt_clf, out_file=\"tree.dot\", \n",
    "                class_names=load_iris.target_names,)\n",
    "with open(\"tree.dot\") as f:\n",
    "    dot_graph = f.read()\n",
    "graphviz.Source(dot_graph)"
   ]
  },
  {
   "cell_type": "markdown",
   "id": "2c0a261c",
   "metadata": {},
   "source": []
  },
  {
   "cell_type": "markdown",
   "id": "8054f400",
   "metadata": {},
   "source": [
    "# 25.07.17(목) 오전수업"
   ]
  },
  {
   "cell_type": "markdown",
   "id": "1d3a3fc6",
   "metadata": {},
   "source": [
    "# 피처 스케일링"
   ]
  },
  {
   "cell_type": "code",
   "execution_count": null,
   "id": "344f4649",
   "metadata": {},
   "outputs": [],
   "source": [
    "from sklearn.datasets import load_iris\n",
    "iris = load_iris()\n",
    "iris_df = pd.DataFrame(data=iris.data, columns=iris.feature_names)\n",
    "iris_df.mean()"
   ]
  },
  {
   "cell_type": "code",
   "execution_count": null,
   "id": "61a9f91c",
   "metadata": {},
   "outputs": [],
   "source": [
    "iris_df.var()"
   ]
  },
  {
   "cell_type": "code",
   "execution_count": null,
   "id": "bb13f32e",
   "metadata": {},
   "outputs": [],
   "source": [
    "from sklearn.preprocessing import StandardScaler\n",
    "scaler = StandardScaler()\n",
    "scaler.fit(iris_df)\n",
    "iris_scaled = scaler.transform(iris_df)\n",
    "iris_scaled.mean(), iris_scaled.var()"
   ]
  },
  {
   "cell_type": "markdown",
   "id": "a11b0c5d",
   "metadata": {},
   "source": [
    "# LogisticRegression 모델\n",
    "- 스케일링 안한 데이터\n",
    "- 스케일링 한 데이터"
   ]
  },
  {
   "cell_type": "code",
   "execution_count": null,
   "id": "7bef0e4d",
   "metadata": {},
   "outputs": [],
   "source": [
    "from sklearn.linear_model import LogisticRegression\n",
    "X_train, X_test, y_train, y_test = train_test_split(iris.data, \n",
    "                                                    iris.target, \n",
    "                                                    test_size=0.2, \n",
    "                                                    random_state=142 )"
   ]
  },
  {
   "cell_type": "code",
   "execution_count": null,
   "id": "76e0a252",
   "metadata": {},
   "outputs": [],
   "source": [
    "no_scaling_model = LogisticRegression()\n",
    "no_scaling_model.fit(X_train, y_train)\n",
    "pred_1 = no_scaling_model.predict(X_test)\n",
    "acc_1 = accuracy_score(y_test, pred_1)\n",
    "acc_1"
   ]
  },
  {
   "cell_type": "code",
   "execution_count": null,
   "id": "4b36d4f7",
   "metadata": {},
   "outputs": [],
   "source": [
    "from sklearn.preprocessing import StandardScaler\n",
    "scaler1 = StandardScaler()\n",
    "scaler1.fit(X_train)\n",
    "X_train_scaled = scaler1.transform(X_train)\n",
    "X_test_scaled = scaler1.transform(X_test)"
   ]
  },
  {
   "cell_type": "code",
   "execution_count": null,
   "id": "70bfc95c",
   "metadata": {},
   "outputs": [],
   "source": [
    "scaling_model = LogisticRegression()\n",
    "scaling_model.fit(X_train_scaled, y_train)\n",
    "pred_2 = scaling_model.predict(X_test_scaled)\n",
    "acc_2 = accuracy_score(y_test, pred_2)\n",
    "acc_2, acc_1"
   ]
  },
  {
   "cell_type": "markdown",
   "id": "077e3fb5",
   "metadata": {},
   "source": [
    "아이리스 데이터의 경우 이미 스케일링이 잘 정리된 데이터여서\n",
    "스케일링을 추가로 진행하는 경우, \n",
    "데이터의 특성을 줄여 주는 결과가 나오고 있음.\n"
   ]
  },
  {
   "cell_type": "markdown",
   "id": "ed931bcc",
   "metadata": {},
   "source": [
    "# 타이타닉 titanic dataset 으로 분류 모델 만들기"
   ]
  },
  {
   "cell_type": "code",
   "execution_count": null,
   "id": "9039817d",
   "metadata": {},
   "outputs": [],
   "source": [
    "df = pd.read_csv('./data/titanic.csv')\n",
    "df.head()\n",
    "\n",
    "df.info()\n",
    "\n",
    "X = df[['Pclass', 'SibSp']]\n",
    "y = df['Survived']"
   ]
  },
  {
   "cell_type": "code",
   "execution_count": null,
   "id": "ce9bab09",
   "metadata": {},
   "outputs": [],
   "source": [
    "# 훈련, 테스트 분리\n",
    "X_train, X_test, y_train, y_test = train_test_split(\n",
    "    X, y,                 # 데이터프레임 기준\n",
    "    test_size=0.2,        # 테스트셋 비율 (20%)\n",
    "    random_state=42       # 재현 가능성 유지\n",
    ")\n"
   ]
  },
  {
   "cell_type": "code",
   "execution_count": null,
   "id": "ae0b408c",
   "metadata": {},
   "outputs": [],
   "source": [
    "# 모델 생성\n",
    "from sklearn.tree import DecisionTreeClassifier\n",
    "dt_clf = DecisionTreeClassifier()\n",
    "# 모델 학습\n",
    "dt_clf.fit(X_train, y_train)\n",
    "# 모델 예측\n",
    "pred = dt_clf.predict(X_test)\n",
    "\n",
    "# 모델 평가\n",
    "accuracy_score(y_test, pred)"
   ]
  },
  {
   "cell_type": "markdown",
   "id": "8f3e2881",
   "metadata": {},
   "source": [
    "# 타이타닉 생존여부 분류 모델\n",
    "\n",
    "titanic dataset 으로 분류 모델 만들기"
   ]
  },
  {
   "cell_type": "code",
   "execution_count": null,
   "id": "3fdb9d87",
   "metadata": {},
   "outputs": [],
   "source": [
    "df = pd.read_csv('./data/titanic.csv')\n",
    "df.head()"
   ]
  },
  {
   "cell_type": "code",
   "execution_count": null,
   "id": "089df9e6",
   "metadata": {},
   "outputs": [],
   "source": [
    "df.info()"
   ]
  },
  {
   "cell_type": "code",
   "execution_count": null,
   "id": "51352add",
   "metadata": {},
   "outputs": [],
   "source": [
    "X = df[['Pclass', 'SibSp']]\n",
    "y = df['Survived']\n",
    "\n",
    "# 훈련, 테스트 분리\n",
    "X_train, X_test, y_train, y_test = train_test_split(\n",
    "    X, y,                 # 데이터프레임 기준\n",
    "    test_size=0.2,        # 테스트셋 비율 (20%)\n",
    "    random_state=42       # 재현 가능성 유지\n",
    ")"
   ]
  },
  {
   "cell_type": "code",
   "execution_count": null,
   "id": "fc190470",
   "metadata": {},
   "outputs": [],
   "source": [
    "# 모델 생성\n",
    "from sklearn.tree import DecisionTreeClassifier\n",
    "dt_clf = DecisionTreeClassifier()\n",
    "# 모델 학습\n",
    "dt_clf.fit(X_train, y_train)\n",
    "# 모델 예측\n",
    "pred = dt_clf.predict(X_test)"
   ]
  },
  {
   "cell_type": "code",
   "execution_count": null,
   "id": "d6700ea8",
   "metadata": {},
   "outputs": [],
   "source": [
    "# 모델 평가\n",
    "accuracy_score(y_test, pred)"
   ]
  },
  {
   "cell_type": "markdown",
   "id": "4851be71",
   "metadata": {},
   "source": [
    "# 와인데이터로 스케일링하기\n",
    "\n",
    "https://scikit-learn.org/stable/datasets/toy_dataset.html#wine-dataset"
   ]
  },
  {
   "cell_type": "code",
   "execution_count": null,
   "id": "bed805d3",
   "metadata": {},
   "outputs": [],
   "source": [
    "from sklearn.datasets import load_wine"
   ]
  },
  {
   "cell_type": "code",
   "execution_count": null,
   "id": "66a0b627",
   "metadata": {},
   "outputs": [],
   "source": [
    "wine = load_wine()\n",
    "wine_df = pd.DataFrame(data=wine.data, \n",
    "                       columns=wine.feature_names)\n",
    "wine_df.head(2)"
   ]
  },
  {
   "cell_type": "code",
   "execution_count": null,
   "id": "d5d4d049",
   "metadata": {},
   "outputs": [],
   "source": [
    "wine_df['target'] = wine.target\n",
    "wine_df.info()"
   ]
  },
  {
   "cell_type": "code",
   "execution_count": null,
   "id": "09f5d489",
   "metadata": {},
   "outputs": [],
   "source": [
    "# target에 들어 있는 값, 분포\n",
    "wine_df['target'].value_counts().sort_index()"
   ]
  },
  {
   "cell_type": "code",
   "execution_count": null,
   "id": "fb71879d",
   "metadata": {},
   "outputs": [],
   "source": [
    "X = wine.data\n",
    "y = wine.target"
   ]
  },
  {
   "cell_type": "code",
   "execution_count": null,
   "id": "c03f87f8",
   "metadata": {},
   "outputs": [],
   "source": [
    "# 로지스틱회귀 모델, 8:2, 11\n",
    "\n",
    "X_train, X_test, y_train, y_test = train_test_split(X, y, \n",
    "                                                    test_size=0.2,\n",
    "                                                    random_state=11 )\n",
    "lr_clf = LogisticRegression(max_iter=3000) #수렴을 위한 하이퍼파라미터\n",
    "lr_clf.fit(X_train, y_train)\n",
    "lr_pred = lr_clf.predict(X_test)\n",
    "accuracy_score(y_test, lr_pred)"
   ]
  },
  {
   "cell_type": "markdown",
   "id": "9f116ef3",
   "metadata": {},
   "source": [
    "# StandardScaling 후 성능"
   ]
  },
  {
   "cell_type": "code",
   "execution_count": null,
   "id": "190bf423",
   "metadata": {},
   "outputs": [],
   "source": [
    "scaler= StandardScaler()\n",
    "scaler.fit(X_train)\n",
    "X_train_scaled = scaler.transform(X_train)\n",
    "X_test_scaled = scaler.transform(X_test)"
   ]
  },
  {
   "cell_type": "code",
   "execution_count": null,
   "id": "9fc37dac",
   "metadata": {},
   "outputs": [],
   "source": [
    "lr_clf = LogisticRegression(max_iter=3000) #수렴을 위한 하이퍼파라미터\n",
    "lr_clf.fit(X_train_scaled, y_train)\n",
    "lr_pred_scaled = lr_clf.predict(X_test_scaled)\n",
    "accuracy_score(y_test, lr_pred_scaled)"
   ]
  },
  {
   "cell_type": "code",
   "execution_count": null,
   "id": "2f969f28",
   "metadata": {},
   "outputs": [],
   "source": [
    "from sklearn.neighbors import KNeighborsClassifier\n",
    "from sklearn.ensemble import RandomForestClassifier"
   ]
  },
  {
   "cell_type": "markdown",
   "id": "12d29c74",
   "metadata": {},
   "source": [
    "# 알고리즘에 따른 스케일링의 효과 확인"
   ]
  },
  {
   "cell_type": "code",
   "execution_count": null,
   "id": "f927bc6f",
   "metadata": {},
   "outputs": [],
   "source": [
    "models = {\n",
    "  'KNN': KNeighborsClassifier(n_neighbors=5),\n",
    "  'RF': RandomForestClassifier(),\n",
    "  'LR': LogisticRegression(max_iter=3000)\n",
    "}\n",
    "for name, model in models.items():\n",
    "  model.fit(X_train, y_train)\n",
    "  y_pred = model.predict(X_test)\n",
    "  acc = accuracy_score(y_test, y_pred)\n",
    "  print(f'{name} 모델의 정확도: {acc:.5f}')"
   ]
  },
  {
   "cell_type": "markdown",
   "id": "ee562a24",
   "metadata": {},
   "source": [
    "# 스케일링 이후 데이터"
   ]
  },
  {
   "cell_type": "code",
   "execution_count": null,
   "id": "64c6a856",
   "metadata": {},
   "outputs": [],
   "source": [
    "models = {\n",
    "  'KNN': KNeighborsClassifier(n_neighbors=5),\n",
    "  'RF': RandomForestClassifier(),\n",
    "  'LR': LogisticRegression(max_iter=3000)\n",
    "}\n",
    "for name, model in models.items():\n",
    "  model.fit(X_train_scaled, y_train)\n",
    "  y_pred = model.predict(X_test_scaled)\n",
    "  acc = accuracy_score(y_test, y_pred)\n",
    "  print(f'{name} 모델의 정확도: {acc:.5f}')"
   ]
  },
  {
   "cell_type": "code",
   "execution_count": null,
   "id": "250dc834",
   "metadata": {},
   "outputs": [],
   "source": [
    "from sklearn.preprocessing import LabelEncoder\n",
    "\n",
    "# Null 처리 함수\n",
    "def fillna(df):\n",
    "    df['Age'].fillna(df['Age'].mean(), inplace=True)\n",
    "    df['Cabin'].fillna('N', inplace=True)\n",
    "    df['Embarked'].fillna('N', inplace=True)\n",
    "    df['Fare'].fillna(0, inplace=True)\n",
    "    return df\n",
    "\n",
    "# 머신러닝 알고리즘에 불필요한 피처 제거\n",
    "def drop_features(df):\n",
    "    df.drop(['PassengerId', 'Name', 'Ticket'], axis=1, inplace=True)\n",
    "    return df\n",
    "\n",
    "# 레이블 인코딩 수행 함수\n",
    "def format_features(df):\n",
    "    df['Cabin'] = df['Cabin'].str[:1]\n",
    "    features = ['Cabin', 'Sex', 'Embarked']\n",
    "    for feature in features:\n",
    "        le = LabelEncoder()\n",
    "        le = le.fit(df[feature])\n",
    "        df[feature] = le.transform(df[feature])\n",
    "    return df\n",
    "\n",
    "# 앞에서 설정한 데이터 전처리 함수 호출\n",
    "def transform_features(df):\n",
    "    df = fillna(df) \n",
    "    df = drop_features(df)\n",
    "    df = format_features(df)\n",
    "    return df"
   ]
  },
  {
   "cell_type": "code",
   "execution_count": null,
   "id": "f69222f1",
   "metadata": {},
   "outputs": [],
   "source": []
  }
 ],
 "metadata": {
  "kernelspec": {
   "display_name": "hipython",
   "language": "python",
   "name": "python3"
  },
  "language_info": {
   "codemirror_mode": {
    "name": "ipython",
    "version": 3
   },
   "file_extension": ".py",
   "mimetype": "text/x-python",
   "name": "python",
   "nbconvert_exporter": "python",
   "pygments_lexer": "ipython3",
   "version": "3.12.9"
  }
 },
 "nbformat": 4,
 "nbformat_minor": 5
}
