{
 "cells": [
  {
   "cell_type": "markdown",
   "id": "73e7c57a",
   "metadata": {},
   "source": [
    "# 상관분석\n",
    "\n",
    "25.07.15(화) 오전수업\n",
    "- %pip install openpyxl\n"
   ]
  },
  {
   "cell_type": "markdown",
   "id": "4770aa76",
   "metadata": {},
   "source": [
    "# 상관분석\n",
    "\n",
    "두 변수 간의 관계를 정략적으로 평가하는 통계 기법으로 하나의 변수가 변할 때 다른 변수가 어떻게 변하는지 파악할 수 있다."
   ]
  },
  {
   "cell_type": "markdown",
   "id": "86eadbe7",
   "metadata": {
    "vscode": {
     "languageId": "ini"
    }
   },
   "source": [
    "## 상관계수\n",
    "\n",
    "두 변수간의 선형 관계의 정도를 정량적으로 나타내는 값으로 기술통계 값의 범위는 -1과 +1 사이   \n",
    "\n",
    "- 상관관계는 변수 간 관계의 동적 성질을 반영\n",
    "- 상관관계의 방향\n",
    "• 양의 상관관계 : 한 변수가 증가할 때 다른 변수도 증가하는 경향이 있는 경우\n",
    "• 음의 상관관계 : 한 변수가 증가할 때 다른 변수는 감소하는 경향이 있는 경우\n",
    "- 상관관계의 강도\n",
    "• 강한 상관관계 : 상관계수의 절댓값이 0.7 이상\n",
    "• 중간 상관관계 : 상관계수의 절댓값이 0.3~0.7 사이\n",
    "• 약한 상관관계 : 상관계수의 절댓값이 0.3 미만"
   ]
  },
  {
   "cell_type": "markdown",
   "id": "c3507f31",
   "metadata": {},
   "source": [
    "![상관관계](images\\상관관계.png)\n"
   ]
  },
  {
   "cell_type": "markdown",
   "id": "de074987",
   "metadata": {},
   "source": [
    "### **상관관계 유형과 변수 사이의 대응 관계**\n",
    "\n",
    "| 변수 X의 변화 | 변수 Y의 변화 | 상관관계 유형 | 값의 범위 | 예시 |\n",
    "| --- | --- | --- | --- | --- |\n",
    "| X값 증가 | Y값 증가 | 직접/양의 상관관계 | 0 ~ +1 | 공부를 더 많이 하면 시험 점수도 오를 것이다. |\n",
    "| X값 감소 | Y값 감소 | 직접/양의 상관관계 | 0 ~ +1 | 예금을 더 적게 하면, 이자도 적을 것이다. |\n",
    "| X값 증가 | Y값 감소 | 간접/음의 상관관계 | -1 ~ 0 | 더 많이 운동하면, 몸무게는 감소할 것이다. |\n",
    "| X값 감소 | Y값 증가 | 간접/음의 상관관계 | -1 ~ 0 | 더 적은 시간 동안 문제를 풀면, 문제 틀릴 가능성이 높아진다. |\n",
    "\n",
    "- 쉽게 저지르는 또 다른 실수는 상관관계의 부호에 가치 판단적 의미를 부여하는 것\n",
    "    - 많은 사람들은 음(-)의 상관관계가 좋지 않고, 양(+)의 상관관계가 좋은 것이라고 생각\n",
    "    - 직접적 또는 간접적이라는 용어를 통해 의미를 더 명확하게 전달"
   ]
  },
  {
   "cell_type": "markdown",
   "id": "febb002c",
   "metadata": {},
   "source": [
    "## **결정계수** (coefficient of determination)\n",
    "\n",
    "결정계수는 상관계수를 제곱한 값(r²)으로, 한 변수의 변동이 다른 변수에 의해 설명되는 정도를 나타낸다. 이 값은 0부터 1 사이의 범위를 가지며, 1에 가까울수록 변수 간 관계가 강함을 의미한다. \n",
    "\n",
    "회귀분석에서 모델의 적합도를 평가하는 중요한 지표로 사용된다.\n",
    "\n",
    "- 다른 변수의 분산과 공유되는 한 변수의 분산의 비율\n",
    "- 상관계수(r)의 제곱값으로, 0에서 1 사이의 값\n",
    "- r = 0.7이면 r² = 0.49로, 한 변수의 변동 중 약 49%를 다른 변수로 설명할 수 있다"
   ]
  },
  {
   "cell_type": "markdown",
   "id": "4af31c3b",
   "metadata": {},
   "source": [
    "![결정계수](images/결정계수.png)\n"
   ]
  },
  {
   "cell_type": "code",
   "execution_count": null,
   "id": "693c2e83",
   "metadata": {},
   "outputs": [],
   "source": []
  },
  {
   "cell_type": "code",
   "execution_count": 15,
   "id": "1179d208",
   "metadata": {},
   "outputs": [
    {
     "name": "stdout",
     "output_type": "stream",
     "text": [
      "           날짜      스트레스        날짜.1        운동        날짜.2        야식\n",
      "0  2024-07-14  45.77084  2024-07-14  77.38452  2024-07-14  40.49190\n",
      "1  2024-07-15  57.46850  2024-07-15  87.10257  2024-07-15  29.93401\n",
      "2  2024-07-16  59.62807  2024-07-16  81.76364  2024-07-16  33.41331\n",
      "3  2024-07-17  57.82843  2024-07-17  79.24415  2024-07-17  34.79304\n",
      "4  2024-07-18  55.84883  2024-07-18  71.32573  2024-07-18  34.79304\n"
     ]
    }
   ],
   "source": [
    "import pandas as pd\n",
    "import warnings\n",
    "warnings.simplefilter(\"ignore\", UserWarning)\n",
    "\n",
    "\n",
    "# 전체 엑셀 불러오기\n",
    "df = pd.read_excel(r'C:\\githome\\9week_py_statistics\\datalab.xlsx', header=None)\n",
    "\n",
    "# ✅ 실제 데이터가 시작되는 행부터 불러오기 (예: 6행부터 시작)\n",
    "data_df = pd.read_excel(r'C:\\githome\\9week_py_statistics\\datalab.xlsx', skiprows=6)\n",
    "\n",
    "# 데이터 확인\n",
    "print(data_df.head())\n"
   ]
  },
  {
   "cell_type": "code",
   "execution_count": 16,
   "id": "9a6eeaf1",
   "metadata": {},
   "outputs": [
    {
     "name": "stdout",
     "output_type": "stream",
     "text": [
      "\n",
      "📊 키워드 간 상관관계:\n",
      "          스트레스        운동        야식\n",
      "스트레스  1.000000  0.602471 -0.325516\n",
      "운동    0.602471  1.000000 -0.213181\n",
      "야식   -0.325516 -0.213181  1.000000\n"
     ]
    }
   ],
   "source": [
    "# 날짜를 인덱스로 설정\n",
    "data_df.set_index('날짜', inplace=True)\n",
    "\n",
    "# 상관관계 분석\n",
    "corr = data_df.corr(numeric_only=True)\n",
    "print(\"\\n📊 키워드 간 상관관계:\")\n",
    "print(corr)\n"
   ]
  },
  {
   "cell_type": "code",
   "execution_count": 17,
   "id": "b461caf2",
   "metadata": {},
   "outputs": [
    {
     "data": {
      "application/vnd.microsoft.datawrangler.viewer.v0+json": {
       "columns": [
        {
         "name": "index",
         "rawType": "object",
         "type": "string"
        },
        {
         "name": "스트레스",
         "rawType": "float64",
         "type": "float"
        },
        {
         "name": "운동",
         "rawType": "float64",
         "type": "float"
        },
        {
         "name": "야식",
         "rawType": "float64",
         "type": "float"
        }
       ],
       "ref": "0db5aa6f-3873-434a-87a5-c4a4cd7af16a",
       "rows": [
        [
         "스트레스",
         "1.0",
         "0.6024710544640681",
         "-0.3255157229644423"
        ],
        [
         "운동",
         "0.6024710544640681",
         "1.0",
         "-0.21318100923324612"
        ],
        [
         "야식",
         "-0.3255157229644423",
         "-0.21318100923324612",
         "1.0"
        ]
       ],
       "shape": {
        "columns": 3,
        "rows": 3
       }
      },
      "text/html": [
       "<div>\n",
       "<style scoped>\n",
       "    .dataframe tbody tr th:only-of-type {\n",
       "        vertical-align: middle;\n",
       "    }\n",
       "\n",
       "    .dataframe tbody tr th {\n",
       "        vertical-align: top;\n",
       "    }\n",
       "\n",
       "    .dataframe thead th {\n",
       "        text-align: right;\n",
       "    }\n",
       "</style>\n",
       "<table border=\"1\" class=\"dataframe\">\n",
       "  <thead>\n",
       "    <tr style=\"text-align: right;\">\n",
       "      <th></th>\n",
       "      <th>스트레스</th>\n",
       "      <th>운동</th>\n",
       "      <th>야식</th>\n",
       "    </tr>\n",
       "  </thead>\n",
       "  <tbody>\n",
       "    <tr>\n",
       "      <th>스트레스</th>\n",
       "      <td>1.000000</td>\n",
       "      <td>0.602471</td>\n",
       "      <td>-0.325516</td>\n",
       "    </tr>\n",
       "    <tr>\n",
       "      <th>운동</th>\n",
       "      <td>0.602471</td>\n",
       "      <td>1.000000</td>\n",
       "      <td>-0.213181</td>\n",
       "    </tr>\n",
       "    <tr>\n",
       "      <th>야식</th>\n",
       "      <td>-0.325516</td>\n",
       "      <td>-0.213181</td>\n",
       "      <td>1.000000</td>\n",
       "    </tr>\n",
       "  </tbody>\n",
       "</table>\n",
       "</div>"
      ],
      "text/plain": [
       "          스트레스        운동        야식\n",
       "스트레스  1.000000  0.602471 -0.325516\n",
       "운동    0.602471  1.000000 -0.213181\n",
       "야식   -0.325516 -0.213181  1.000000"
      ]
     },
     "execution_count": 17,
     "metadata": {},
     "output_type": "execute_result"
    }
   ],
   "source": [
    "corr_df = data_df[['스트레스', '운동', '야식']]\n",
    "corr_df.corr()"
   ]
  },
  {
   "cell_type": "code",
   "execution_count": 18,
   "id": "fb54940a",
   "metadata": {},
   "outputs": [
    {
     "data": {
      "image/png": "[encoded data removed]",
      "text/plain": [
       "<Figure size 640x480 with 1 Axes>"
      ]
     },
     "metadata": {},
     "output_type": "display_data"
    }
   ],
   "source": [
    "import matplotlib.pyplot as plt\n",
    "plt.scatter(corr_df['스트레스'], corr_df['야식'] )\n",
    "plt.show()"
   ]
  },
  {
   "cell_type": "markdown",
   "id": "fc37d1fe",
   "metadata": {},
   "source": [
    "# 상관분석의 방법\n",
    "\n",
    "**피어슨** 상관분석(Pearson correlation analysis)은 가장 일반적인 상관분석 방법.\n",
    "\n",
    "**스피어만** 상관분석(Spearman correlation analysis)은 데이터의 순위 값으로 상관성을 측정한다.  그래서  두 변수의 데이터가 정규분포를 따르지 않거나, 순서형 척도일 때 적합하다. \n",
    "\n",
    "**켄달** 상관분석(Kendall correlation analysis)은 스피어만 상관분석과 비슷하나 **표본 데이터가 적고** 동점이 많을 때 사용하기 적합한 방법.\n",
    "\n",
    "## 피어슨 상관계수 (Pearson Correlation Coefficient)\n",
    "\n",
    "**연속형** 변수 간의 선형 관계를 측정한다.  두 변수의 공분산을 각 변수의 표준편차로 나누어 계산\n",
    "즉, **두 변수가 얼마나 함께 변하는지를 표준편차를 통해 정규화한 값**\n",
    "\n",
    "- 𝑟 = 1: 완전한 양의 상관관계\n",
    "- 𝑟 = −1: 완전한 음의 상관관계\n",
    "- 𝑟 = 0: 상관관계 없음"
   ]
  },
  {
   "cell_type": "code",
   "execution_count": null,
   "id": "af2468fc",
   "metadata": {},
   "outputs": [
    {
     "name": "stdout",
     "output_type": "stream",
     "text": [
      "피어슨 상관계수: 0.99\n",
      "p-값: 0.0006\n"
     ]
    }
   ],
   "source": [
    "# 예시: 키와 몸무게 간의 관계 (일반적으로 키가 큰 사람이 몸무게도 더 나가는 경향이 있을 때 사용)\n",
    "\n",
    "import pandas as pd\n",
    "from scipy.stats import pearsonr\n",
    "\n",
    "# 예시 데이터\n",
    "data = {\n",
    "    'height': [160, 165, 170, 175, 180],\n",
    "    'weight': [50, 55, 65, 70, 80]\n",
    "}\n",
    "df = pd.DataFrame(data)\n",
    "\n",
    "# 피어슨 상관계수 계산\n",
    "corr, p_value = pearsonr(df['height'], df['weight'])\n",
    "\n",
    "print(f\"피어슨 상관계수: {corr:.2f}\")\n",
    "print(f\"p-값: {p_value:.4f}\")\n"
   ]
  },
  {
   "cell_type": "markdown",
   "id": "4b189363",
   "metadata": {},
   "source": [
    "## 스피어만 상관계수 (Spearman's Rank Correlation Coefficient)\n",
    "\n",
    "**순위형** 변수 간의 관계 측정한다. 비선형 관계일 경우에도 사용 가능하다.\n",
    "각 변수의 순위를 매긴 후, 그 순위들 간의 상관계수를 계산 한다.\n",
    "\n",
    "- 𝑟𝑠 = 1: 완전한 양의 상관관계\n",
    "- 𝑟𝑠 = −1: 완전한 음의 상관관계\n",
    "- 𝑟𝑠 = 0: 상관관계 없음\n",
    "\n",
    "비선형 관계와 이상치에 민감하지 않지만, 데이터의 순위 정보만 사용하여 정보 손실이 발생할 수 있음 (원래 데이터의 크기 정보 등)"
   ]
  },
  {
   "cell_type": "code",
   "execution_count": 26,
   "id": "1d81b27d",
   "metadata": {},
   "outputs": [
    {
     "name": "stdout",
     "output_type": "stream",
     "text": [
      "스피어만 상관계수: 0.300\n",
      "p-value: 0.6238\n"
     ]
    }
   ],
   "source": [
    "# 예시: 학생 성적 순위와 스포츠 성적 순위 간의 관계.\n",
    "import pandas as pd\n",
    "from scipy.stats import spearmanr\n",
    "\n",
    "# 데이터프레임 구성\n",
    "data = {\n",
    "    'student': ['A', 'B', 'C', 'D', 'E'],\n",
    "    'academic_rank': [1, 2, 3, 4, 5],\n",
    "    'sports_rank': [4, 2, 1, 3, 5]\n",
    "}\n",
    "df = pd.DataFrame(data)\n",
    "\n",
    "# 스피어만 상관계수 계산\n",
    "rho, pval = spearmanr(df['academic_rank'], df['sports_rank'])\n",
    "\n",
    "print(f\"스피어만 상관계수: {rho:.3f}\")\n",
    "print(f\"p-value: {pval:.4f}\")\n"
   ]
  },
  {
   "cell_type": "markdown",
   "id": "087abf51",
   "metadata": {},
   "source": [
    "## 켄달의 타우 (Kendall's Tau, Kendall's Rank Correlation Coefficient)\n",
    "\n",
    "변수의 순서 간의 상관성을 측정한다.  \n",
    "순위 쌍 간의 일치와 불일치를 비교하여 상관관계를 계산한다. 작은 데이터셋에 적합한 방법.\n",
    "\n",
    "피어슨 상관계수와 동일하게 해석함 (𝜏)\n",
    "\n",
    "순위 정보에 기반하여 비선형 관계도 잘 반영하지만, 계산이 복잡하며, 해석이 어려울 수 있음 (특히 데이터셋이 클 경우 계산 부담 증가)"
   ]
  },
  {
   "cell_type": "markdown",
   "id": "41f05367",
   "metadata": {},
   "source": [
    "![켄달의타우](images\\켄달의타우.png)"
   ]
  },
  {
   "cell_type": "code",
   "execution_count": 27,
   "id": "7b72374e",
   "metadata": {},
   "outputs": [
    {
     "name": "stdout",
     "output_type": "stream",
     "text": [
      "상관계수 (Weight_rank_1): 0.20\n",
      "상관계수 (Weight_rank_2): 1.00\n",
      "상관계수 (Weight_rank_3): -1.00\n"
     ]
    }
   ],
   "source": [
    "# 예시 : 직무 수행 순위와 승진 순위 간의 관계\n",
    "import pandas as pd\n",
    "from scipy.stats import kendalltau\n",
    "\n",
    "# 사람 A~E의 키와 몸무게 순위\n",
    "data = {\n",
    "    'Person': ['A', 'B', 'C', 'D', 'E'],\n",
    "    'Height_rank': [1, 2, 3, 4, 5],     # 키 순위\n",
    "    'Weight_rank_1': [3, 4, 1, 2, 5],   # τ = 0.2\n",
    "    'Weight_rank_2': [1, 2, 3, 4, 5],   # τ = 1\n",
    "    'Weight_rank_3': [5, 4, 3, 2, 1]    # τ = -1\n",
    "}\n",
    "\n",
    "df = pd.DataFrame(data)\n",
    "\n",
    "# 계수 계산\n",
    "tau1, _ = kendalltau(df['Height_rank'], df['Weight_rank_1'])\n",
    "tau2, _ = kendalltau(df['Height_rank'], df['Weight_rank_2'])\n",
    "tau3, _ = kendalltau(df['Height_rank'], df['Weight_rank_3'])\n",
    "\n",
    "print(f\"상관계수 (Weight_rank_1): {tau1:.2f}\")\n",
    "print(f\"상관계수 (Weight_rank_2): {tau2:.2f}\")\n",
    "print(f\"상관계수 (Weight_rank_3): {tau3:.2f}\")\n"
   ]
  },
  {
   "cell_type": "code",
   "execution_count": null,
   "id": "63f52f9d",
   "metadata": {},
   "outputs": [],
   "source": []
  }
 ],
 "metadata": {
  "kernelspec": {
   "display_name": "hipython",
   "language": "python",
   "name": "python3"
  },
  "language_info": {
   "codemirror_mode": {
    "name": "ipython",
    "version": 3
   },
   "file_extension": ".py",
   "mimetype": "text/x-python",
   "name": "python",
   "nbconvert_exporter": "python",
   "pygments_lexer": "ipython3",
   "version": "3.12.9"
  }
 },
 "nbformat": 4,
 "nbformat_minor": 5
}
