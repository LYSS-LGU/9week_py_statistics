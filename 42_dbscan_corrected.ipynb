{
 "cells": [
  {
   "cell_type": "markdown",
   "id": "file-path-comment",
   "metadata": {},
   "source": [
    "<!-- 파일 경로: C:/githome/9-11week_py_statistics/42_dbscan_corrected.ipynb -->"
   ]
  },
  {
   "cell_type": "markdown",
   "id": "6312da08",
   "metadata": {},
   "source": [
    "# DBSCAN: 밀도 기반 군집화 알고리즘 (수정본)\n",
    "\n",
    "**학습 목표:**\n",
    "1. K-Means와 다른, 밀도 기반의 군집화 알고리즘인 **DBSCAN**의 원리를 이해합니다.\n",
    "2. DBSCAN을 사용하여 K-Means로는 군집화하기 어려운 복잡한 분포(예: 초승달 모양)의 데이터를 효과적으로 군집화합니다.\n",
    "3. DBSCAN의 주요 하이퍼파라미터인 `eps`와 `min_samples`의 의미를 이해하고, 이를 조정하여 군집화 결과를 개선합니다."
   ]
  },
  {
   "cell_type": "markdown",
   "metadata": {},
   "source": [
    "## 1. DBSCAN (Density-Based Spatial Clustering of Applications with Noise) 이란?\n",
    "\n",
    "DBSCAN은 데이터가 밀집된 정도, 즉 **밀도**를 기반으로 군집을 형성하는 알고리즘입니다. K-Means처럼 군집의 개수(k)를 미리 지정할 필요가 없으며, 기하학적으로 복잡한 모양의 데이터셋도 잘 찾아내는 장점이 있습니다.\n",
    "\n",
    "### 주요 개념\n",
    "- **`eps` (epsilon)**: 개별 데이터를 중심으로 하는 원(또는 구)의 반경입니다. 이 반경 안에 다른 데이터가 얼마나 있는지로 밀도를 측정합니다.\n",
    "- **`min_samples`**: `eps` 반경 내에 최소한 이 개수 이상의 데이터가 있어야 밀집 지역으로 인정합니다.\n",
    "- **핵심 포인트(Core Point)**: `eps` 반경 내에 `min_samples` 개수 이상의 데이터(자기 자신 포함)를 가진 데이터입니다.\n",
    "- **경계 포인트(Border Point)**: `eps` 반경 내에 `min_samples`보다는 적은 데이터가 있지만, 핵심 포인트의 반경 내에는 속하는 데이터입니다.\n",
    "- **잡음 포인트(Noise Point)**: 핵심 포인트도, 경계 포인트도 아닌 데이터입니다. DBSCAN은 이를 어떤 군집에도 속하지 않는 **이상치(Outlier)**로 취급합니다. (레이블: -1)"
   ]
  },
  {
   "cell_type": "code",
   "execution_count": null,
   "id": "bac6a8d6",
   "metadata": {},
   "outputs": [],
   "source": [
    "# C:/githome/9-11week_py_statistics/42_dbscan_corrected.ipynb\n",
    "\n",
    "# 필요한 라이브러리를 임포트합니다.\n",
    "from sklearn.cluster import DBSCAN       # DBSCAN 알고리즘\n",
    "from sklearn.datasets import make_moons  # 초승달 모양의 가상 데이터 생성\n",
    "import matplotlib.pyplot as plt          # 시각화 라이브러리\n",
    "import numpy as np\n",
    "import pandas as pd"
   ]
  },
  {
   "cell_type": "markdown",
   "metadata": {},
   "source": [
    "### 예제 1: 초승달 모양 데이터 군집화"
   ]
  },
  {
   "cell_type": "code",
   "execution_count": null,
   "id": "317d8b92",
   "metadata": {},
   "outputs": [],
   "source": [
    "# K-Means로는 군집화하기 어려운 초승달 모양의 데이터를 생성합니다.\n",
    "X, _ = make_moons(n_samples=300, noise=0.05, random_state=42)"
   ]
  },
  {
   "cell_type": "code",
   "execution_count": null,
   "id": "a79bd6e9",
   "metadata": {},
   "outputs": [],
   "source": [
    "# DBSCAN 모델을 생성하고 학습시킵니다.\n",
    "dbscan = DBSCAN(eps=0.2, min_samples=5)\n",
    "dbscan.fit(X)"
   ]
  },
  {
   "cell_type": "code",
   "execution_count": null,
   "id": "adf8ba28",
   "metadata": {},
   "outputs": [],
   "source": [
    "# 각 데이터 포인트에 할당된 군집 레이블을 확인합니다.\n",
    "dbscan.labels_"
   ]
  },
  {
   "cell_type": "code",
   "execution_count": null,
   "id": "c267c961",
   "metadata": {},
   "outputs": [],
   "source": [
    "# 군집화 결과를 시각화합니다.\n",
    "plt.scatter(X[:,0], X[:,1], c=dbscan.labels_, cmap='rainbow')\n",
    "plt.show()"
   ]
  },
  {
   "cell_type": "markdown",
   "id": "4da3fde5",
   "metadata": {},
   "source": [
    "## 2. 예제 2: 붓꽃(Iris) 데이터 군집화"
   ]
  },
  {
   "cell_type": "code",
   "execution_count": null,
   "id": "592847da",
   "metadata": {},
   "outputs": [],
   "source": [
    "# 붓꽃 데이터셋을 로드하고 DataFrame으로 변환합니다.\n",
    "from sklearn.datasets import load_iris\n",
    "iris = load_iris()\n",
    "iris_df = pd.DataFrame(data=iris.data, columns=['sepal_length', 'sepal_width', 'petal_length', 'petal_width'])\n",
    "iris_df['target'] = iris.target"
   ]
  },
  {
   "cell_type": "code",
   "execution_count": null,
   "id": "d7e54629",
   "metadata": {},
   "outputs": [],
   "source": [
    "# 붓꽃 데이터에 DBSCAN을 적용합니다.\n",
    "iris_dbscan = DBSCAN(eps=0.6, min_samples=8, metric='euclidean')\n",
    "dbscan_labels = iris_dbscan.fit_predict(iris.data)\n",
    "\n",
    "# 군집화 결과를 DataFrame에 추가합니다.\n",
    "iris_df['dbscan_cluster'] = dbscan_labels\n",
    "iris_df.groupby(['target'])['dbscan_cluster'].value_counts()"
   ]
  },
  {
   "cell_type": "markdown",
   "id": "f5a4fb25",
   "metadata": {},
   "source": [
    "### 붓꽃 군집화 결과 시각화 (PCA 사용)\n",
    "4차원 데이터를 2차원으로 축소하여 시각화합니다."
   ]
  },
  {
   "cell_type": "code",
   "execution_count": null,
   "id": "66c4c19d",
   "metadata": {},
   "outputs": [],
   "source": [
    "# 시각화를 위한 함수 정의 (원본 노트북의 함수와 동일)\n",
    "def visualize_cluster_plot(clusterobj, dataframe, label_name, iscenter=True):\n",
    "    unique_labels = np.unique(dataframe[label_name].values)\n",
    "    markers = ['o', 's', '^', 'x', '*', 'P', 'D', 'v']\n",
    "    isNoise = False\n",
    "\n",
    "    if iscenter and hasattr(clusterobj, 'cluster_centers_'):\n",
    "        centers = clusterobj.cluster_centers_\n",
    "    else:\n",
    "        iscenter = False\n",
    "\n",
    "    for label in unique_labels:\n",
    "        label_cluster = dataframe[dataframe[label_name] == label]\n",
    "        if label == -1:\n",
    "            cluster_legend = 'Noise'\n",
    "            isNoise = True\n",
    "        else:\n",
    "            cluster_legend = f'Cluster {label}'\n",
    "\n",
    "        marker_style = markers[label % len(markers)] if label != -1 else 'X'\n",
    "\n",
    "        plt.scatter(x=label_cluster['ftr1'], y=label_cluster['ftr2'],\n",
    "                    s=70, edgecolor='k', marker=marker_style, label=cluster_legend)\n",
    "\n",
    "        if iscenter and label != -1:\n",
    "            center_x_y = centers[label]\n",
    "            plt.scatter(x=center_x_y[0], y=center_x_y[1], s=250, color='white',\n",
    "                        edgecolor='k', alpha=0.9, marker=marker_style)\n",
    "            plt.scatter(x=center_x_y[0], y=center_x_y[1], s=70, color='k',\n",
    "                        edgecolor='k', marker=f'${label}$')\n",
    "\n",
    "    plt.legend(loc='upper center' if isNoise else 'upper right')\n",
    "    plt.title(f\"Clustering result: {label_name}\")\n",
    "    plt.xlabel(\"ftr1 (PCA 1)\")\n",
    "    plt.ylabel(\"ftr2 (PCA 2)\")\n",
    "    plt.grid(True)\n",
    "    plt.show()"
   ]
  },
  {
   "cell_type": "code",
   "execution_count": null,
   "id": "01c838ce",
   "metadata": {},
   "outputs": [],
   "source": [
    "# PCA를 사용하여 붓꽃 데이터를 2차원으로 축소합니다.\n",
    "from sklearn.decomposition import PCA\n",
    "pca = PCA(n_components=2, random_state=0)\n",
    "pca_transformed = pca.fit_transform(iris.data)\n",
    "iris_df['ftr1'] = pca_transformed[:, 0]\n",
    "iris_df['ftr2'] = pca_transformed[:, 1]"
   ]
  },
  {
   "cell_type": "code",
   "execution_count": null,
   "id": "09b8f90e",
   "metadata": {},
   "outputs": [],
   "source": [
    "# DBSCAN 군집화 결과를 시각화합니다.\n",
    "visualize_cluster_plot(iris_dbscan, iris_df, 'dbscan_cluster', iscenter=False)"
   ]
  },
  {
   "cell_type": "markdown",
   "id": "42defc04",
   "metadata": {},
   "source": [
    "### 하이퍼파라미터 튜닝\n",
    "\n",
    "`eps` 값을 0.6에서 0.5로 줄여서 잡음점을 줄여보겠습니다. `eps`가 작아지면 더 촘촘한 지역만 군집으로 인정하게 됩니다."
   ]
  },
  {
   "cell_type": "code",
   "execution_count": null,
   "id": "d43edbe8",
   "metadata": {},
   "outputs": [],
   "source": [
    "# eps 값을 0.5로 변경하여 다시 군집화를 수행합니다.\n",
    "iris_dbscan_tuned = DBSCAN(eps=0.5, min_samples=8, metric='euclidean')\n",
    "\n",
    "# [중요] fit_predict는 원본 데이터(iris.data)로 수행해야 합니다.\n",
    "# PCA로 변환된 데이터는 시각화를 위한 것일 뿐, 군집화는 원본 데이터의 밀도를 기반으로 해야 합니다.\n",
    "dbscan_labels_tuned = iris_dbscan_tuned.fit_predict(iris.data)\n",
    "iris_df['dbscan_cluster_tuned'] = dbscan_labels_tuned\n",
    "\n",
    "# 튜닝된 군집화 결과를 2D PCA 데이터로 시각화합니다.\n",
    "visualize_cluster_plot(iris_dbscan_tuned, iris_df, 'dbscan_cluster_tuned', iscenter=False)"
   ]
  },
  {
   "cell_type": "markdown",
   "metadata": {},
   "source": [
    "## 정리\n",
    "\n",
    "- **DBSCAN**은 밀도 기반 군집화로, K-Means와 달리 **군집 개수를 미리 지정할 필요가 없고** 복잡한 형태의 군집도 잘 찾아냅니다.\n",
    "- **`eps`**와 **`min_samples`**가 중요한 하이퍼파라미터이며, 이 값들을 어떻게 설정하느냐에 따라 군집 결과와 **잡음점(Noise)**의 개수가 달라집니다.\n",
    "- DBSCAN은 데이터의 밀도가 균일하지 않을 때 성능이 떨어질 수 있으며, `eps`와 `min_samples`를 데이터에 맞게 잘 설정하는 것이 중요합니다."
   ]
  }
 ],
 "metadata": {
  "kernelspec": {
   "display_name": "hi_ml_env",
   "language": "python",
   "name": "python3"
  },
  "language_info": {
   "codemirror_mode": {
    "name": "ipython",
    "version": 3
   },
   "file_extension": ".py",
   "mimetype": "text/x-python",
   "name": "python",
   "nbconvert_exporter": "python",
   "pygments_lexer": "ipython3",
   "version": "3.10.16"
  }
 },
 "nbformat": 4,
 "nbformat_minor": 5
}